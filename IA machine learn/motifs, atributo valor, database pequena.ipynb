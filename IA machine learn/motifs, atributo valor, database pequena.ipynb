{
 "cells": [
  {
   "cell_type": "code",
   "execution_count": 104,
   "metadata": {
    "collapsed": true
   },
   "outputs": [],
   "source": [
    "import os\n",
    "os.chdir('C:\\\\Users\\\\Usuario\\\\Desktop\\\\wallace\\\\UNILA\\\\DNA IC')\n",
    "import numpy as np\n",
    "from biosppy.signals import tools"
   ]
  },
  {
   "cell_type": "code",
   "execution_count": 105,
   "metadata": {
    "collapsed": true
   },
   "outputs": [],
   "source": [
    "'''data2= open('splice.data.txt', 'r')\n",
    "f= data2.readlines()\n",
    "for i in range(len(f)):\n",
    "    f[i]= f[i].split(',')\n",
    "for i in range(len(f)):\n",
    "    del(f[i][1])\n",
    "for i in range(len(f)):\n",
    "    f[i][1]=f[i][1].split()[0]\n",
    "c=[]\n",
    "for i in range(len(f)):\n",
    "    b=[]\n",
    "    if f[i][0]=='EI':\n",
    "        b.append(0)\n",
    "    elif f[i][0]=='IE':\n",
    "        b.append(1)\n",
    "    elif f[i][0]=='N':\n",
    "        b.append(2)\n",
    "    a=[]\n",
    "    l=0\n",
    "    for j in range(len(f[i][1])):\n",
    "        if f[i][1][j]=='A':\n",
    "            l= l-1\n",
    "            a.append(l)\n",
    "        elif f[i][1][j]=='C':\n",
    "            l= l-2\n",
    "            a.append(l)\n",
    "        elif f[i][1][j]=='G':\n",
    "            l= l+1\n",
    "            a.append(l)\n",
    "        elif f[i][1][j]=='T':\n",
    "            l= l+2\n",
    "            a.append(l)\n",
    "        else:\n",
    "            a.append(l)\n",
    "    b.append(a)\n",
    "    c.append(b)\n",
    "cdata=[]\n",
    "ctarg=[]\n",
    "\n",
    "for i in range(len(c)):\n",
    "    cdata.append(c[i][1])\n",
    "    ctarg.append((c[i][0]))'''\n",
    "data1= open('splice.data.txt', 'r')\n",
    "f= data1.readlines()\n",
    "for i in range(len(f)):\n",
    "    f[i]= f[i].split(',')\n",
    "for i in range(len(f)):\n",
    "    del(f[i][1])\n",
    "for i in range(len(f)):\n",
    "    f[i][1]=f[i][1].split()[0]\n",
    "c=[]\n",
    "for i in range(len(f)):\n",
    "    b=[]\n",
    "    if f[i][0]=='EI':\n",
    "        b.append(0)\n",
    "    elif f[i][0]=='IE':\n",
    "        b.append(1)\n",
    "    elif f[i][0]=='N':\n",
    "        b.append(2)\n",
    "    a=[]\n",
    "    for j in range(len(f[i][1])):\n",
    "        if f[i][1][j]=='A':\n",
    "            a.append(0)\n",
    "        elif f[i][1][j]=='C':\n",
    "            a.append(1)\n",
    "        elif f[i][1][j]=='G':\n",
    "            a.append(2)\n",
    "        elif f[i][1][j]=='T':\n",
    "            a.append(3)\n",
    "        else:\n",
    "            a.append(8)\n",
    "    b.append(a)\n",
    "    c.append(b)\n",
    "cdata=[]\n",
    "ctarg=[]\n",
    "\n",
    "for i in range(len(c)):\n",
    "    cdata.append(c[i][1])\n",
    "    ctarg.append((c[i][0]))"
   ]
  },
  {
   "cell_type": "code",
   "execution_count": 106,
   "metadata": {
    "collapsed": true
   },
   "outputs": [],
   "source": [
    "#concatenando sequencias\n",
    "concatenado=[]\n",
    "conc=[]\n",
    "i=0\n",
    "while ctarg[i] == 0:\n",
    "    concatenado= concatenado + cdata[i]\n",
    "    i=i+1\n",
    "conc.append(concatenado)\n",
    "concatenado=[]\n",
    "while ctarg[i] == 1:\n",
    "    concatenado= concatenado + cdata[i]\n",
    "    i=i+1\n",
    "conc.append(concatenado)\n",
    "concatenado=[]\n",
    "while i < len(ctarg):\n",
    "    concatenado= concatenado + cdata[i]\n",
    "    i=i+1\n",
    "conc.append(concatenado)"
   ]
  },
  {
   "cell_type": "code",
   "execution_count": 111,
   "metadata": {},
   "outputs": [
    {
     "ename": "IndexError",
     "evalue": "list index out of range",
     "output_type": "error",
     "traceback": [
      "\u001b[1;31m---------------------------------------------------------------------------\u001b[0m",
      "\u001b[1;31mIndexError\u001b[0m                                Traceback (most recent call last)",
      "\u001b[1;32m<ipython-input-111-67d0b4baf574>\u001b[0m in \u001b[0;36m<module>\u001b[1;34m()\u001b[0m\n\u001b[1;32m----> 1\u001b[1;33m \u001b[0mprint\u001b[0m\u001b[1;33m(\u001b[0m\u001b[0mlen\u001b[0m\u001b[1;33m(\u001b[0m\u001b[0mconc\u001b[0m\u001b[1;33m[\u001b[0m\u001b[1;36m3\u001b[0m\u001b[1;33m]\u001b[0m\u001b[1;33m)\u001b[0m\u001b[1;33m)\u001b[0m\u001b[1;33m\u001b[0m\u001b[1;33m\u001b[0m\u001b[0m\n\u001b[0m",
      "\u001b[1;31mIndexError\u001b[0m: list index out of range"
     ]
    }
   ],
   "source": [
    "print(len(conc[3]))"
   ]
  },
  {
   "cell_type": "code",
   "execution_count": 113,
   "metadata": {},
   "outputs": [
    {
     "name": "stderr",
     "output_type": "stream",
     "text": [
      "C:\\Users\\Usuario\\Anaconda3\\lib\\site-packages\\biosppy\\signals\\tools.py:1477: RuntimeWarning: divide by zero encountered in true_divide\n",
      "  dist = 2 * m * (1 - z / (m * sigma))\n",
      "C:\\Users\\Usuario\\Anaconda3\\lib\\site-packages\\biosppy\\signals\\tools.py:1477: RuntimeWarning: invalid value encountered in true_divide\n",
      "  dist = 2 * m * (1 - z / (m * sigma))\n",
      "C:\\Users\\Usuario\\Anaconda3\\lib\\site-packages\\biosppy\\signals\\tools.py:1477: RuntimeWarning: invalid value encountered in multiply\n",
      "  dist = 2 * m * (1 - z / (m * sigma))\n",
      "C:\\Users\\Usuario\\Anaconda3\\lib\\site-packages\\biosppy\\signals\\tools.py:1644: RuntimeWarning: invalid value encountered in less\n",
      "  pos = dist < matrix_profile\n",
      "C:\\Users\\Usuario\\Anaconda3\\lib\\site-packages\\biosppy\\signals\\tools.py:1465: RuntimeWarning: invalid value encountered in true_divide\n",
      "  q = (query - np.mean(query)) / np.std(query)\n"
     ]
    },
    {
     "name": "stdout",
     "output_type": "stream",
     "text": [
      "quentidade de subsequencias 41\n",
      "quentidade de subsequencias 86\n",
      "quentidade de subsequencias 104\n"
     ]
    }
   ],
   "source": [
    "zw= 10\n",
    "win= 1\n",
    "LMnn= []\n",
    "for i in range(len(conc)):\n",
    "    for m in range(4,zw,win):\n",
    "        from biosppy.signals import tools\n",
    "        ind , prof =tools.signal_self_join(signal=conc[i][0:241], size= m, index=None, limit=None)\n",
    "\n",
    "\n",
    "        #'''minimos da matrix profile'''\n",
    "        desv= prof.std()\n",
    "        med= prof.mean()\n",
    "        ln = len(prof)\n",
    "        M= []\n",
    "        for c in range(ln -1):\n",
    "            if (prof[c - 1]>prof[c]<prof[c + 1]):\n",
    "                if( prof[c]< (med - (1.7*desv))):\n",
    "                    if(c%60+m<60):\n",
    "                        M.append(c)\n",
    "\n",
    "\n",
    "        #'''lista de motifs normalizados'''\n",
    "        for e in range(len(M)):\n",
    "            f= concatenado[M[e]:M[e]+m]\n",
    "            LMnn.append(f)\n",
    "    print('quentidade de subsequencias',len(LMnn))"
   ]
  },
  {
   "cell_type": "code",
   "execution_count": 56,
   "metadata": {},
   "outputs": [
    {
     "name": "stdout",
     "output_type": "stream",
     "text": [
      "4.411472883559194e-08\n",
      "4.411472883559194e-08\n"
     ]
    }
   ],
   "source": [
    "p=[]\n",
    "print(prof[M[2]])\n",
    "for i in range(len(M)):\n",
    "    p.append(prof[M[i]])\n",
    "print(np.max(p))"
   ]
  },
  {
   "cell_type": "code",
   "execution_count": 114,
   "metadata": {},
   "outputs": [
    {
     "name": "stderr",
     "output_type": "stream",
     "text": [
      "C:\\Users\\Usuario\\Anaconda3\\lib\\site-packages\\biosppy\\signals\\tools.py:1477: RuntimeWarning: invalid value encountered in true_divide\n",
      "  dist = 2 * m * (1 - z / (m * sigma))\n",
      "C:\\Users\\Usuario\\Anaconda3\\lib\\site-packages\\biosppy\\signals\\tools.py:1477: RuntimeWarning: divide by zero encountered in true_divide\n",
      "  dist = 2 * m * (1 - z / (m * sigma))\n",
      "C:\\Users\\Usuario\\Anaconda3\\lib\\site-packages\\biosppy\\signals\\tools.py:1477: RuntimeWarning: invalid value encountered in multiply\n",
      "  dist = 2 * m * (1 - z / (m * sigma))\n"
     ]
    }
   ],
   "source": [
    "#2 tabela de distancia entre motifs\n",
    "DistMotifs= []\n",
    "DMp=[]\n",
    "LM= LMnn\n",
    "for i in range(len(LM)):\n",
    "    for j in range(i+1,len(LM)):\n",
    "        if(len(LM[i])<=len(LM[j])/2):\n",
    "            eucli = tools.distance_profile(query=LM[i], signal=LM[j], metric='euclidean')\n",
    "            eucli=eucli[0]\n",
    "        elif(len(LM[i])/2>=len(LM[j])):\n",
    "            eucli = tools.distance_profile(query=LM[j], signal=LM[i], metric='euclidean')\n",
    "            eucli=eucli[0]\n",
    "        else:\n",
    "            \n",
    "            if(len(LM[i])>=len(LM[j])):\n",
    "                o=[]\n",
    "                o= np.concatenate((LM[i], LM[i]), axis=0)\n",
    "                eucli = tools.distance_profile(query=LM[j], signal=o, metric='euclidean')\n",
    "                eucli= eucli[0]\n",
    "                a=[]\n",
    "                for b in range(len(LM[i])-len(LM[j])+1):\n",
    "                    a.append(eucli[b])\n",
    "                eucli= a\n",
    "            elif(len(LM[i])<len(LM[j])):\n",
    "                o=[]\n",
    "                o= np.concatenate((LM[j], LM[j]), axis=0)\n",
    "                eucli = tools.distance_profile(query=LM[i], signal=o, metric='euclidean')\n",
    "                eucli= eucli[0]\n",
    "                a=[]\n",
    "                for b in range(len(LM[j])-len(LM[i])+1):\n",
    "                    a.append(eucli[b])\n",
    "                eucli= a\n",
    "             \n",
    "        DMp.append(np.min(eucli))\n",
    "    DistMotifs.append(DMp)\n",
    "    DMp= []\n",
    "import pickle\n",
    "l=DistMotifs\n",
    "with open(\"distmotifs.txt\", 'wb') as fp:\n",
    "    pickle.dump(l, fp)\n"
   ]
  },
  {
   "cell_type": "code",
   "execution_count": 115,
   "metadata": {},
   "outputs": [
    {
     "name": "stdout",
     "output_type": "stream",
     "text": [
      "[2.70127801382435, 2.573913731037581, 2.759051549941975, 4.11945290049243, 3.072717267132249, 3.919101308429667, 2.8516749065554743, 3.2742626195628133, 2.3511021501314824, 4.403473758820106, 3.0289784323946467, 2.2981057130884444, 2.0412019699171364, 3.1641812717115, 3.994421800276392, 2.7012780138243495, 3.9191013084296666, 2.21564683762799, 3.1641812717114997, 2.9668146646977873, 2.6731556240265286, 3.264392435615846, 2.7012780138243495, 3.2742626195628133, 2.2981057130884457, 2.215646837627989, 1.651445647689541, 2.6731556240265286, 2.558408596267326, 2.70127801382435, 2.2981057130884466, 2.0412019699171373, 2.405070218643575, 1.8636747170906387, 2.8516749065554743, 1.771274301029641, 3.770364284472787, 2.860387767736777, 1.636446973014213e-08, 3.2643924356158447, 4.626682848873299, 2.62358205655271, 2.69494857024947, 3.644064255489146, 2.1825965568866987, 3.815548269419131, 3.2742626195628133, 3.815548269419131, 4.267978121241221, 2.5739137310375813, 1.9140256960006337, 3.3657285967310213, 4.177863742936748, 3.9343264403913976, 2.7725251045415784, 2.4050702186435755, 3.365728596731022, 2.623582056552711, 1.3290468821417476, 2.182596556886699, 3.2742626195628137, 3.4641016151377553, 2.193511437290027, 3.2742626195628133, 2.405070218643575, 2.96037846569935, 2.1825965568866987, 2.3511021501314815, 2.193511437290026, 2.4050702186435755, 1.8636747170906387, 2.623582056552711, 2.1825965568866996, 2.1825965568867, 2.4831292319062315, 1.914025696000635, 2.193511437290027, 2.351102150131481, 2.573913731037581, 1.3290468821417476, 3.2742626195628137, 3.2742626195628137, 3.2742626195628137, 3.2742626195628137, 3.644064255489146, 3.1641812717114997, 3.1641812717114997, 2.573913731037581, 1.329046882141747, 3.2742626195628137, 3.2742626195628137, 3.2742626195628137, 1.329046882141747, 3.2742626195628137, 3.2742626195628137]\n"
     ]
    }
   ],
   "source": [
    "print(DistMotifs[8])"
   ]
  },
  {
   "cell_type": "code",
   "execution_count": 116,
   "metadata": {},
   "outputs": [
    {
     "name": "stdout",
     "output_type": "stream",
     "text": [
      "grupos 15\n",
      "ve 1.6966437776558203 vi 0.6268156404795597\n",
      "medidade de qualidade para  0.1  :  0.630555542221359\n",
      "grupos 16\n",
      "ve 1.74919874647477 vi 0.7293542333296295\n",
      "medidade de qualidade para  0.2  :  0.5830352412500145\n",
      "grupos 16\n",
      "ve 1.7154249462592732 vi 0.7489533098597998\n",
      "medidade de qualidade para  0.3  :  0.5634007121716409\n",
      "grupos 13\n",
      "ve 1.811279421442669 vi 0.9567650156225429\n",
      "medidade de qualidade para  0.4  :  0.4717739271500763\n",
      "grupos 13\n",
      "ve 1.811279421442669 vi 0.981319966934334\n",
      "medidade de qualidade para  0.5  :  0.4582172384243615\n",
      "grupos 13\n",
      "ve 1.888285663651144 vi 0.9331896016292668\n",
      "medidade de qualidade para  0.6  :  0.5058006213822152\n",
      "grupos 11\n",
      "ve 1.6024026896516923 vi 1.0789136047264938\n",
      "medidade de qualidade para  0.7  :  0.32669009376100533\n",
      "grupos 10\n",
      "ve 1.7277672412151142 vi 1.1227746223633435\n",
      "medidade de qualidade para  0.8  :  0.35015863504061345\n",
      "grupos 9\n",
      "ve 2.2038232208074913 vi 1.1750367522950402\n",
      "medidade de qualidade para  0.9  :  0.46681896206516\n",
      "grupos 9\n",
      "ve 2.132773272820804 vi 1.2021769036245782\n",
      "medidade de qualidade para  1.0  :  0.43633159748172384\n"
     ]
    }
   ],
   "source": [
    "#3 Agrupamento - variando o raio para o agrupamento, guardando raio e medida de qualidade\n",
    "ra=[]\n",
    "sel=0\n",
    "medidaqualidade= []\n",
    "informacao=[]\n",
    "for rai in range(1, 11, 1):\n",
    "    with open('distmotifs.txt', 'rb') as fp:\n",
    "        D= pickle.load(fp)\n",
    "    raio= rai/10\n",
    "    # agrupando motifs\n",
    "    g=[]\n",
    "    for a in range(len(D)):\n",
    "        gg=[]\n",
    "        c= a - 1\n",
    "        h=0\n",
    "        for u in range(len(g)):\n",
    "            if c not in (g[u]):\n",
    "                h=h+1\n",
    "        if(h==len(g)):\n",
    "            if D[a] != []:\n",
    "                gg.append(a-1)\n",
    "                for p in range(int(zw/win)-2):\n",
    "                    b= np.argmin(D[a])\n",
    "                    c= b + a\n",
    "                    h=0\n",
    "                    for u in range(len(g)):\n",
    "                        if c not in (g[u]):\n",
    "                            h= h + 1\n",
    "                    if(h==len(g)):\n",
    "                        gg.append(c)\n",
    "                        D[a][b]= 50\n",
    "                for d in range(len(D[a])):\n",
    "                    if(D[a][d]<=(np.min(D[a])+ raio)):\n",
    "                        c= a+d\n",
    "                        h=0\n",
    "                        for u in range(len(g)):\n",
    "                            if c not in (g[u]):\n",
    "                                h= h + 1\n",
    "                        if(h==len(g)):\n",
    "                            gg.append(c)\n",
    "                g.append(gg)\n",
    "\n",
    "    \n",
    "    #comparação de distancias intra grupo\n",
    "    ç=0\n",
    "    o=[]\n",
    "    gg= []\n",
    "    for f in range(len(g)):\n",
    "        if(len(g[f])<2):\n",
    "            gg.append(f)\n",
    "    for f in range(len (gg) - 1, -1, -1):\n",
    "        del(g[gg[f]])\n",
    "\n",
    "    for u in range(len(g)):\n",
    "        i=[]\n",
    "        for v in range(len(g[u])):\n",
    "            j=[]\n",
    "            for l in range(len(g[u])):\n",
    "                if(g[u][v]!=g[u][l]):\n",
    "                    if(g[u][v]<g[u][l]):\n",
    "                        j.append(DistMotifs[g[u][v] + 1][g[u][l]- g[u][v] - 1])\n",
    "                    else:\n",
    "                        j.append(DistMotifs[g[u][l] + 1][g[u][v]- g[u][l] - 1])\n",
    "            a=0\n",
    "            for n in range(len(j)):\n",
    "                a= a + j[n]\n",
    "            a= a/len(j)\n",
    "            i.append(a)\n",
    "        o.append(i)\n",
    "    medg=[]\n",
    "    centroides=[]\n",
    "    for r in range(len(o)):\n",
    "        centroides.append(np.argmin(o[r]))\n",
    "        medg.append(np.min(o[r]))\n",
    "    me=0\n",
    "    for r in range(len(medg)):\n",
    "        me= me + medg[r]\n",
    "    valorintra= me/len(o)\n",
    "\n",
    "    #comparação de distâncias extra grupos\n",
    "    centros=[]\n",
    "    i=[]\n",
    "    for l in range(len(centroides)):\n",
    "        centros.append(g[l][centroides[l]])\n",
    "    a=0\n",
    "    for v in range(len(centros)):\n",
    "        j=[]\n",
    "        for l in range(len(centros)):\n",
    "            if(centros[v]!=centros[l]):\n",
    "                if(centros[v]<centros[l]):\n",
    "                    j.append(DistMotifs[centros[v] + 1][centros[l]- centros[v] - 1])\n",
    "                else:\n",
    "                    j.append(DistMotifs[centros[l] + 1][centros[v]- centros[l] - 1])\n",
    "    \n",
    "        a= min(j)\n",
    "        i.append(a)\n",
    "    a=0\n",
    "    for n in range(len(i)):\n",
    "        a= a + i[n]\n",
    "    valorextra= a/len(i)   \n",
    "    #medida de qualidade\n",
    "    print('grupos',len(g))\n",
    "    print('ve',valorextra,'vi', valorintra)\n",
    "    mq= (valorextra - valorintra)/max(valorintra, valorextra)\n",
    "    ra.append(raio)\n",
    "    medidaqualidade.append(mq)\n",
    "    print('medidade de qualidade para ', raio, ' : ', mq)\n",
    "    \n",
    "    #seleção representantes do melhor agrupamento\n",
    "    representantes=[] \n",
    "    if mq>sel:\n",
    "        sel=mq\n",
    "        for i in range(len(centros)):\n",
    "            representantes.append(LMnn[centros[i]])\n",
    "        import pickle\n",
    "        l=representantes\n",
    "        with open(\"representantes.txt\", 'wb') as fp:\n",
    "            pickle.dump(l, fp)\n",
    "informacao.append(ra)\n",
    "informacao.append(medidaqualidade)\n",
    "with open(\"informaçao.txt\", 'wb') as fp:\n",
    "    pickle.dump(informacao, fp)\n"
   ]
  },
  {
   "cell_type": "code",
   "execution_count": 117,
   "metadata": {},
   "outputs": [
    {
     "name": "stdout",
     "output_type": "stream",
     "text": [
      "15\n"
     ]
    }
   ],
   "source": [
    "with open('representantes.txt', 'rb') as fp:\n",
    "        Rep= pickle.load(fp)\n",
    "print(len(Rep))"
   ]
  },
  {
   "cell_type": "code",
   "execution_count": 119,
   "metadata": {},
   "outputs": [],
   "source": [
    "#tabela de atributo valor\n",
    "tabela=[]\n",
    "#for i in range(cdata):\n",
    "for i in range(1,2,1):\n",
    "    a=cdata[i]\n",
    "    linha=[]\n",
    "    for j in range(len(Rep)):\n",
    "        b= Rep[j]\n",
    "        eucli = tools.distance_profile(query=b, signal=a, metric='euclidean')\n",
    "        eucli= eucli[0]\n",
    "        ln = len(eucli)\n",
    "        contador= 0\n",
    "        for c in range(ln -1):\n",
    "            if (eucli[c - 1]>eucli[c]<eucli[c + 1]):\n",
    "                if( eucli[c]< 0.1):\n",
    "                    contador= contador + 1\n",
    "        linha.append(contador)\n",
    "    tabela.append(linha)\n",
    "with open(\"tabela atributo-valor.txt\", 'wb') as fp:\n",
    "    pickle.dump(tabela, fp)\n"
   ]
  },
  {
   "cell_type": "code",
   "execution_count": 120,
   "metadata": {},
   "outputs": [
    {
     "name": "stdout",
     "output_type": "stream",
     "text": [
      "[[0, 0, 0, 0, 0, 0, 0, 0, 0, 0, 0, 0, 0, 0, 0]]\n"
     ]
    }
   ],
   "source": [
    "print(tabela)"
   ]
  },
  {
   "cell_type": "code",
   "execution_count": null,
   "metadata": {
    "collapsed": true
   },
   "outputs": [],
   "source": []
  }
 ],
 "metadata": {
  "kernelspec": {
   "display_name": "Python 3",
   "language": "python",
   "name": "python3"
  },
  "language_info": {
   "codemirror_mode": {
    "name": "ipython",
    "version": 3
   },
   "file_extension": ".py",
   "mimetype": "text/x-python",
   "name": "python",
   "nbconvert_exporter": "python",
   "pygments_lexer": "ipython3",
   "version": "3.6.8"
  }
 },
 "nbformat": 4,
 "nbformat_minor": 2
}
