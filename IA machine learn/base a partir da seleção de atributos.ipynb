{
 "cells": [
  {
   "cell_type": "code",
   "execution_count": 2,
   "metadata": {
    "collapsed": true
   },
   "outputs": [],
   "source": [
    "#sao separados os atributos 27-34, depois contabilizado quais subsequencias aparecem\n",
    "import os\n",
    "os.chdir('C:\\\\Users\\\\Usuario\\\\Desktop\\\\wallace\\\\UNILA\\\\DNA IC')"
   ]
  },
  {
   "cell_type": "code",
   "execution_count": 3,
   "metadata": {
    "collapsed": true
   },
   "outputs": [],
   "source": [
    "#sl sequencias\n",
    "import splicenum as sp\n",
    "a, b= sp.splicenum()\n",
    "indices= range(27,35,1)\n",
    "slseq=[]\n",
    "for j in range(len(a)):\n",
    "    vazio1=[]\n",
    "    for i in range(len(indices)):\n",
    "        v= a[j][indices[i]]\n",
    "        vazio1.append(v)\n",
    "    slseq.append(vazio1)\n",
    "cdata= slseq\n",
    "ctarg= b\n",
    "cdata= cdata[0:1537]\n",
    "quantidade = len(cdata)\n",
    "while i < quantidade:\n",
    "    b=cdata.count(cdata[i])\n",
    "    if b>1:\n",
    "        for j in range(b-1):\n",
    "            cdata.remove(cdata[i])\n",
    "        i= i\n",
    "    else:\n",
    "        i=i+1\n",
    "    quantidade = len(cdata)"
   ]
  },
  {
   "cell_type": "code",
   "execution_count": 5,
   "metadata": {},
   "outputs": [
    {
     "name": "stderr",
     "output_type": "stream",
     "text": [
      "IOPub data rate exceeded.\n",
      "The notebook server will temporarily stop sending output\n",
      "to the client in order to avoid crashing it.\n",
      "To change this limit, set the config variable\n",
      "`--NotebookApp.iopub_data_rate_limit`.\n"
     ]
    }
   ],
   "source": [
    "#tabela atributo valor - contagem\n",
    "a, b= sp.splicenum()\n",
    "AV=[]\n",
    "for i in range(len(a)):\n",
    "    vezes=[]\n",
    "    a1= str(a[i])\n",
    "    for j in range(len(cdata)):\n",
    "        c1= str(cdata[j])\n",
    "        c1= c1.replace('[','')\n",
    "        c1= c1.replace(']','')\n",
    "        c= a1.count(c1)\n",
    "        vezes.append(c)\n",
    "    AV.append(vezes)\n",
    "print(AV)\n",
    "        "
   ]
  },
  {
   "cell_type": "code",
   "execution_count": 49,
   "metadata": {
    "collapsed": true
   },
   "outputs": [],
   "source": [
    "import numpy as np\n",
    "from sklearn import svm\n",
    "from sklearn.model_selection import cross_val_score\n",
    "from sklearn.model_selection import ShuffleSplit\n",
    "from sklearn import tree\n",
    "from sklearn.svm import SVC\n",
    "from sklearn.neighbors import KNeighborsClassifier\n",
    "from sklearn.naive_bayes import GaussianNB\n",
    "from sklearn.neural_network import MLPClassifier\n",
    "from sklearn.metrics import confusion_matrix\n",
    "from sklearn.metrics import classification_report,confusion_matrix\n",
    "from sklearn.model_selection import cross_val_predict\n",
    "from sklearn.metrics import confusion_matrix\n",
    "from sklearn.linear_model import SGDClassifier\n",
    "from sklearn.feature_selection import SelectFromModel\n",
    "from sklearn.gaussian_process import GaussianProcessClassifier\n",
    "from sklearn.ensemble import BaggingClassifier\n",
    "from sklearn.ensemble import RandomForestClassifier\n",
    "from sklearn.ensemble import AdaBoostClassifier\n",
    "from sklearn.ensemble import GradientBoostingClassifier\n",
    "from sklearn.ensemble import VotingClassifier"
   ]
  },
  {
   "cell_type": "code",
   "execution_count": 48,
   "metadata": {},
   "outputs": [
    {
     "name": "stdout",
     "output_type": "stream",
     "text": [
      "Decision Tree \n",
      "Scores: [0.615625   0.503125   0.628125   0.546875   0.628125   0.55172414\n",
      " 0.5799373  0.53144654 0.56466877 0.65930599]\n",
      "Accuracy: 0.58 (+/- 0.10) , ei: 0.54 , ie: 0.30, n: 0.73\n",
      "Confusion:\n",
      " [[ 413   75  279]\n",
      " [  94  234  440]\n",
      " [ 144  304 1207]] \n",
      "\n",
      "SVC Support Vector Machines \n",
      "Scores: [0.51875    0.51875    0.51875    0.51875    0.51875    0.51724138\n",
      " 0.51724138 0.51886792 0.52050473 0.52050473]\n",
      "Accuracy: 0.52 (+/- 0.00) , ei: 0.00 , ie: 0.00, n: 1.00\n",
      "Confusion:\n",
      " [[   0    0  767]\n",
      " [   0    0  768]\n",
      " [   0    0 1655]] \n",
      "\n",
      "Nearest Neighbors1 \n",
      "Scores: [0.371875   0.33125    0.334375   0.3125     0.340625   0.3322884\n",
      " 0.32288401 0.3081761  0.30599369 0.33438486]\n",
      "Accuracy: 0.33 (+/- 0.04) , ei: 0.81 , ie: 0.40, n: 0.07\n",
      "Confusion:\n",
      " [[ 625  108   34]\n",
      " [ 290  311  167]\n",
      " [1082  458  115]] \n",
      "\n",
      "GaussianNB \n",
      "Scores: [0.2875     0.296875   0.321875   0.3125     0.2875     0.27899687\n",
      " 0.29467085 0.31132075 0.29652997 0.29968454]\n",
      "Accuracy: 0.30 (+/- 0.02) , ei: 0.87 , ie: 0.11, n: 0.12\n",
      "Confusion:\n",
      " [[ 671   30   66]\n",
      " [ 451   87  230]\n",
      " [1351  109  195]] \n",
      "\n",
      "MLP classifier \n",
      "Scores: [0.51875    0.51875    0.51875    0.51875    0.51875    0.51724138\n",
      " 0.51724138 0.51886792 0.52050473 0.52050473]\n",
      "Accuracy: 0.52 (+/- 0.00) , ei: 0.00 , ie: 0.00, n: 1.00\n",
      "Confusion:\n",
      " [[   0    0  767]\n",
      " [   0    0  768]\n",
      " [   0    0 1655]] \n",
      "\n"
     ]
    }
   ],
   "source": [
    "clf=[]\n",
    "nome=[]\n",
    "clf.append(tree.DecisionTreeClassifier())\n",
    "nome.append('Decision Tree')\n",
    "clf.append(SVC(gamma='auto'))\n",
    "nome.append('SVC Support Vector Machines')\n",
    "clf.append(KNeighborsClassifier(n_neighbors=1))\n",
    "nome.append('Nearest Neighbors1')\n",
    "clf.append(GaussianNB())\n",
    "nome.append('GaussianNB')\n",
    "clf.append(MLPClassifier(solver='lbfgs', alpha=1e-5,hidden_layer_sizes=(5, 2), random_state=1))\n",
    "nome.append('MLP classifier')\n",
    "for i in range(len(clf)):\n",
    "    scores = cross_val_score(clf[i], AV, b, cv=10)\n",
    "    y_pred = cross_val_predict(clf[i], AV, b, cv=10)\n",
    "    conf_mat = confusion_matrix(b, y_pred)\n",
    "    print(nome[i],'\\nScores:',scores)\n",
    "    print(\"Accuracy: %0.2f (+/- %0.2f) , ei: %0.2f , ie: %0.2f, n: %0.2f\" % (scores.mean(), scores.std() * 2, conf_mat[0][0]/sum(conf_mat[0]), conf_mat[1][1]/sum(conf_mat[1]),conf_mat[2][2]/sum(conf_mat[2])))\n",
    "    print('Confusion:\\n', conf_mat, '\\n')"
   ]
  },
  {
   "cell_type": "code",
   "execution_count": 50,
   "metadata": {},
   "outputs": [
    {
     "name": "stdout",
     "output_type": "stream",
     "text": [
      "414 122\n"
     ]
    }
   ],
   "source": [
    "clf=tree.DecisionTreeClassifier()\n",
    "clf= clf.fit(AV,b)\n",
    "model = SelectFromModel(clf, prefit=True)\n",
    "x = model.transform(AV)\n",
    "print(len(AV[0]),len(x[0]))"
   ]
  },
  {
   "cell_type": "code",
   "execution_count": 51,
   "metadata": {},
   "outputs": [
    {
     "name": "stdout",
     "output_type": "stream",
     "text": [
      "Decision Tree \n",
      "Scores: [0.678125   0.61875    0.684375   0.61875    0.7        0.58934169\n",
      " 0.65830721 0.59748428 0.6340694  0.69400631]\n",
      "Accuracy: 0.65 (+/- 0.08) , ei: 0.53 , ie: 0.23, n: 0.90\n",
      "Confusion:\n",
      " [[ 409   36  322]\n",
      " [  50  175  543]\n",
      " [  81   92 1482]] \n",
      "\n",
      "SVC Support Vector Machines \n",
      "Scores: [0.51875    0.51875    0.51875    0.51875    0.51875    0.51724138\n",
      " 0.51724138 0.51886792 0.52050473 0.52050473]\n",
      "Accuracy: 0.52 (+/- 0.00) , ei: 0.00 , ie: 0.00, n: 1.00\n",
      "Confusion:\n",
      " [[   0    0  767]\n",
      " [   0    0  768]\n",
      " [   0    0 1655]] \n",
      "\n",
      "Nearest Neighbors1 \n",
      "Scores: [0.296875   0.30625    0.31875    0.271875   0.296875   0.28213166\n",
      " 0.30721003 0.27044025 0.27129338 0.29022082]\n",
      "Accuracy: 0.29 (+/- 0.03) , ei: 0.95 , ie: 0.23, n: 0.02\n",
      "Confusion:\n",
      " [[ 727   29   11]\n",
      " [ 559  176   33]\n",
      " [1509  120   26]] \n",
      "\n",
      "GaussianNB \n",
      "Scores: [0.675      0.609375   0.678125   0.621875   0.703125   0.57366771\n",
      " 0.64576803 0.60062893 0.64353312 0.68454259]\n",
      "Accuracy: 0.64 (+/- 0.08) , ei: 0.53 , ie: 0.24, n: 0.88\n",
      "Confusion:\n",
      " [[ 407   42  318]\n",
      " [  57  183  528]\n",
      " [  87  105 1463]] \n",
      "\n",
      "MLP classifier \n",
      "Scores: [0.646875   0.578125   0.665625   0.625      0.625      0.5862069\n",
      " 0.64576803 0.6163522  0.6214511  0.63091483]\n",
      "Accuracy: 0.62 (+/- 0.05) , ei: 0.46 , ie: 0.14, n: 0.93\n",
      "Confusion:\n",
      " [[ 356   45  366]\n",
      " [  28  104  636]\n",
      " [  55   69 1531]] \n",
      "\n"
     ]
    }
   ],
   "source": [
    "clf=[]\n",
    "nome=[]\n",
    "cdata= x\n",
    "ctarg= b\n",
    "clf.append(tree.DecisionTreeClassifier())\n",
    "nome.append('Decision Tree')\n",
    "clf.append(SVC(gamma='auto'))\n",
    "nome.append('SVC Support Vector Machines')\n",
    "clf.append(KNeighborsClassifier(n_neighbors=1))\n",
    "nome.append('Nearest Neighbors1')\n",
    "clf.append(GaussianNB())\n",
    "nome.append('GaussianNB')\n",
    "clf.append(MLPClassifier(solver='lbfgs', alpha=1e-5,hidden_layer_sizes=(5, 2), random_state=1))\n",
    "nome.append('MLP classifier')\n",
    "for i in range(len(clf)):\n",
    "    scores = cross_val_score(clf[i], cdata, ctarg, cv=10)\n",
    "    y_pred = cross_val_predict(clf[i], cdata, ctarg, cv=10)\n",
    "    conf_mat = confusion_matrix(ctarg, y_pred)\n",
    "    print(nome[i],'\\nScores:',scores)\n",
    "    print(\"Accuracy: %0.2f (+/- %0.2f) , ei: %0.2f , ie: %0.2f, n: %0.2f\" % (scores.mean(), scores.std() * 2, conf_mat[0][0]/sum(conf_mat[0]), conf_mat[1][1]/sum(conf_mat[1]),conf_mat[2][2]/sum(conf_mat[2])))\n",
    "    print('Confusion:\\n', conf_mat, '\\n')"
   ]
  },
  {
   "cell_type": "code",
   "execution_count": 18,
   "metadata": {},
   "outputs": [
    {
     "name": "stdout",
     "output_type": "stream",
     "text": [
      "[[2, 0, 1, 2, 3, 2, 0, 2], [1, 3, 3, 2, 3, 0, 0, 2], [0, 0, 1, 2, 3, 2, 0, 2], [2, 0, 3, 2, 3, 2, 1, 2], [2, 0, 2, 2, 3, 3, 0, 2], [0, 0, 0, 2, 3, 0, 0, 0], [0, 1, 2, 2, 3, 0, 0, 2], [0, 0, 2, 2, 3, 3, 1, 2], [3, 0, 3, 2, 3, 2, 0, 2], [1, 3, 2, 2, 3, 2, 1, 2], [2, 0, 2, 2, 3, 1, 0, 2], [2, 2, 0, 2, 3, 0, 0, 2], [0, 2, 2, 2, 3, 0, 2, 2], [1, 3, 0, 1, 0, 0, 1, 2], [2, 1, 2, 2, 3, 0, 3, 2], [3, 0, 2, 2, 3, 2, 3, 2], [0, 2, 3, 2, 3, 0, 1, 2], [2, 0, 2, 2, 3, 0, 0, 2], [0, 3, 2, 2, 3, 0, 2, 2], [0, 0, 2, 2, 3, 2, 2, 2], [1, 0, 2, 2, 3, 2, 1, 0], [1, 1, 2, 2, 3, 0, 0, 1], [2, 0, 2, 2, 3, 0, 2, 0], [1, 0, 0, 2, 3, 0, 0, 2], [1, 0, 2, 2, 3, 0, 0, 2], [2, 2, 2, 2, 3, 2, 0, 2], [2, 0, 2, 2, 3, 0, 0, 3], [0, 3, 2, 2, 3, 0, 3, 2], [2, 3, 2, 2, 3, 0, 0, 2], [0, 0, 2, 2, 3, 2, 3, 2], [2, 0, 2, 2, 3, 2, 0, 0], [0, 0, 2, 2, 3, 2, 1, 1], [0, 2, 2, 2, 3, 0, 1, 3], [2, 3, 2, 2, 3, 2, 0, 2], [3, 3, 3, 2, 3, 0, 0, 2], [3, 3, 2, 2, 3, 2, 2, 2], [3, 1, 0, 2, 3, 0, 0, 2], [3, 0, 2, 2, 3, 0, 0, 2], [2, 3, 2, 2, 3, 0, 2, 2], [2, 0, 2, 2, 3, 0, 2, 2], [3, 3, 2, 2, 3, 0, 0, 2], [1, 1, 3, 2, 3, 0, 0, 2], [0, 3, 2, 2, 3, 2, 0, 2], [3, 3, 2, 2, 3, 2, 0, 2], [1, 3, 2, 2, 3, 0, 3, 2], [1, 1, 2, 2, 3, 2, 0, 2], [3, 1, 2, 2, 3, 2, 0, 2], [1, 0, 2, 2, 3, 0, 2, 2], [1, 0, 2, 2, 3, 0, 1, 1], [0, 0, 2, 2, 3, 0, 3, 2], [0, 0, 2, 2, 3, 0, 1, 2], [0, 0, 2, 2, 3, 0, 0, 2], [2, 0, 2, 2, 3, 2, 0, 2], [0, 0, 2, 2, 3, 2, 0, 2], [0, 0, 2, 2, 3, 0, 2, 2], [0, 2, 2, 2, 3, 2, 0, 2], [2, 1, 2, 2, 3, 0, 0, 2], [0, 2, 2, 2, 3, 0, 0, 2], [1, 0, 2, 2, 3, 1, 3, 2], [1, 0, 2, 0, 3, 3, 0, 3], [1, 0, 2, 2, 0, 2, 2, 0], [1, 0, 2, 0, 2, 2, 2, 2], [1, 0, 2, 2, 0, 2, 2, 1], [1, 0, 2, 0, 3, 1, 3, 2], [1, 0, 2, 2, 1, 3, 1, 0], [1, 0, 2, 0, 0, 1, 0, 3], [1, 0, 2, 2, 2, 1, 0, 2], [1, 0, 2, 2, 1, 3, 2, 3], [1, 0, 2, 3, 3, 3, 3, 2], [1, 0, 2, 2, 0, 0, 2, 0], [3, 0, 1, 0, 2, 0, 2, 1], [1, 0, 2, 0, 3, 3, 2, 2], [1, 3, 2, 0, 2, 2, 2, 1], [3, 0, 2, 2, 1, 2, 2, 0], [3, 0, 2, 2, 3, 3, 3, 3], [1, 0, 2, 3, 3, 1, 2, 0], [1, 0, 2, 2, 1, 3, 0, 3], [3, 0, 2, 1, 3, 0, 3, 1], [1, 0, 2, 2, 2, 3, 0, 0], [1, 0, 2, 1, 1, 3, 0, 1], [0, 0, 2, 0, 0, 3, 3, 3], [1, 0, 2, 3, 0, 1, 3, 2], [1, 0, 2, 2, 3, 1, 1, 0], [1, 0, 2, 0, 2, 3, 2, 1], [1, 0, 2, 2, 1, 1, 1, 0], [1, 0, 2, 0, 2, 2, 3, 1], [1, 0, 2, 2, 2, 0, 1, 3], [1, 0, 2, 0, 1, 3, 2, 2], [1, 0, 2, 2, 0, 3, 2, 1], [1, 0, 2, 2, 2, 1, 2, 1], [1, 0, 2, 2, 1, 1, 3, 0], [1, 0, 2, 2, 1, 3, 2, 0], [1, 0, 2, 2, 0, 0, 1, 1], [1, 0, 2, 2, 2, 1, 1, 3], [1, 0, 2, 1, 3, 0, 3, 0], [1, 0, 2, 1, 0, 0, 2, 1], [1, 0, 2, 0, 1, 1, 3, 0], [1, 0, 2, 0, 2, 3, 1, 0], [3, 0, 2, 3, 1, 0, 2, 2], [1, 0, 2, 2, 3, 0, 2, 1], [3, 0, 2, 2, 1, 3, 0, 3], [3, 0, 2, 2, 0, 1, 3, 0], [1, 0, 2, 1, 0, 0, 3, 0], [1, 0, 2, 2, 3, 3, 3, 2], [1, 0, 2, 2, 1, 2, 2, 2], [1, 0, 2, 3, 1, 3, 3, 1], [1, 0, 2, 0, 0, 2, 1, 3], [1, 0, 2, 3, 3, 2, 0, 0], [1, 0, 2, 2, 1, 2, 0, 2], [1, 0, 2, 0, 3, 1, 1, 2], [1, 0, 2, 2, 0, 1, 1, 0], [1, 0, 2, 2, 1, 0, 1, 0], [1, 0, 2, 0, 1, 0, 3, 2], [1, 0, 2, 1, 0, 1, 3, 1], [1, 0, 2, 0, 3, 1, 0, 1], [3, 0, 2, 0, 1, 0, 2, 3], [3, 0, 2, 1, 3, 3, 3, 0], [1, 0, 2, 2, 0, 0, 0, 0], [1, 0, 2, 0, 2, 0, 0, 2], [3, 0, 2, 2, 2, 1, 0, 1], [3, 0, 2, 2, 0, 0, 0, 0], [1, 0, 2, 0, 0, 1, 2, 0], [3, 0, 2, 2, 0, 3, 1, 0], [1, 0, 2, 3, 2, 3, 0, 3], [1, 0, 2, 3, 2, 3, 2, 3], [0, 0, 2, 2, 2, 1, 3, 2], [1, 0, 2, 1, 3, 3, 2, 0], [1, 0, 2, 2, 3, 1, 3, 3], [1, 0, 2, 0, 3, 2, 1, 1], [3, 0, 2, 2, 3, 0, 3, 3], [0, 0, 2, 2, 3, 2, 0, 3], [3, 0, 2, 2, 3, 1, 2, 1], [1, 0, 2, 0, 1, 2, 2, 2], [3, 0, 2, 2, 3, 1, 2, 2], [1, 0, 2, 2, 2, 1, 3, 2], [1, 0, 2, 2, 3, 2, 3, 3], [3, 0, 2, 2, 2, 2, 0, 1], [1, 0, 2, 0, 1, 3, 3, 0], [1, 0, 2, 3, 3, 3, 3, 3], [3, 0, 2, 0, 1, 3, 2, 0], [0, 0, 2, 0, 3, 2, 2, 0], [3, 0, 2, 0, 3, 2, 3, 0], [3, 0, 2, 3, 2, 1, 1, 0], [1, 0, 2, 2, 3, 3, 2, 3], [3, 0, 2, 3, 3, 0, 3, 1], [1, 0, 2, 2, 0, 2, 0, 1], [2, 0, 2, 3, 1, 3, 3, 1], [1, 0, 2, 0, 1, 2, 0, 2], [1, 0, 2, 0, 1, 1, 1, 2], [1, 0, 2, 2, 0, 0, 3, 2], [3, 0, 2, 0, 3, 0, 1, 1], [1, 0, 2, 2, 3, 3, 1, 1], [1, 0, 2, 2, 3, 0, 1, 3], [3, 0, 2, 0, 0, 1, 1, 3], [1, 0, 2, 1, 0, 0, 2, 3], [3, 0, 2, 1, 3, 1, 1, 3], [3, 0, 2, 3, 3, 3, 1, 1], [1, 0, 2, 0, 0, 3, 1, 3], [3, 0, 2, 2, 0, 0, 2, 0], [1, 0, 2, 0, 2, 2, 1, 3], [1, 0, 2, 2, 3, 1, 1, 3], [1, 0, 2, 1, 2, 3, 1, 2], [3, 0, 2, 2, 3, 2, 2, 3], [3, 0, 2, 3, 0, 1, 2, 2], [3, 0, 2, 2, 0, 3, 1, 3], [1, 0, 2, 1, 1, 0, 2, 2], [3, 0, 2, 2, 3, 2, 0, 0], [1, 0, 2, 0, 3, 2, 0, 1], [1, 0, 2, 3, 0, 3, 2, 3], [1, 0, 2, 0, 3, 3, 0, 2], [3, 0, 2, 2, 0, 1, 3, 2], [3, 0, 2, 0, 0, 3, 2, 0], [3, 0, 2, 0, 0, 3, 2, 3], [0, 0, 2, 2, 0, 3, 0, 3], [1, 0, 2, 1, 3, 3, 2, 1], [3, 0, 2, 3, 3, 2, 3, 3], [3, 0, 2, 1, 0, 3, 2, 3], [3, 0, 2, 0, 3, 2, 1, 1], [1, 0, 2, 2, 1, 1, 3, 3], [1, 0, 2, 2, 1, 3, 2, 2], [3, 0, 2, 2, 3, 2, 0, 2], [3, 0, 2, 3, 3, 2, 2, 0], [1, 0, 2, 1, 0, 1, 3, 3], [0, 0, 2, 1, 3, 3, 2, 2], [1, 0, 2, 2, 3, 0, 3, 3], [1, 0, 2, 1, 1, 1, 3, 3], [1, 0, 2, 2, 0, 2, 3, 0], [1, 0, 2, 3, 2, 1, 3, 0], [1, 0, 2, 2, 3, 1, 3, 0], [1, 0, 2, 3, 2, 1, 3, 1], [1, 0, 2, 3, 2, 2, 3, 2], [1, 0, 2, 0, 2, 3, 2, 3], [3, 0, 2, 0, 0, 3, 3, 0], [3, 0, 2, 2, 1, 1, 0, 1], [3, 0, 2, 2, 2, 0, 3, 1], [3, 0, 2, 1, 0, 1, 1, 0], [1, 0, 2, 0, 1, 1, 2, 3], [1, 0, 2, 0, 0, 0, 1, 0], [0, 1, 0, 3, 2, 3, 0, 3], [1, 0, 2, 1, 1, 0, 2, 0], [1, 0, 2, 0, 3, 1, 1, 1], [1, 0, 2, 2, 3, 3, 1, 0], [1, 0, 2, 0, 3, 1, 3, 3], [3, 0, 2, 2, 3, 0, 3, 2], [3, 0, 2, 2, 0, 0, 2, 3], [1, 0, 2, 0, 0, 2, 2, 1], [1, 0, 2, 0, 3, 3, 1, 3], [1, 0, 2, 0, 0, 0, 2, 1], [1, 0, 2, 1, 1, 3, 1, 3], [1, 0, 2, 3, 2, 0, 3, 1], [1, 0, 2, 0, 2, 3, 3, 1], [1, 0, 2, 2, 3, 3, 2, 2], [2, 0, 2, 3, 0, 1, 1, 1], [1, 0, 2, 2, 2, 1, 0, 1], [1, 0, 2, 0, 3, 3, 2, 0], [3, 0, 2, 1, 3, 2, 3, 2], [1, 0, 2, 0, 1, 1, 1, 1], [1, 0, 2, 2, 1, 0, 2, 1], [1, 0, 2, 0, 1, 2, 1, 1], [1, 0, 2, 1, 2, 0, 0, 2], [1, 0, 2, 3, 2, 1, 0, 1], [1, 0, 2, 2, 2, 0, 0, 1], [1, 0, 2, 2, 1, 1, 3, 2], [1, 0, 2, 0, 3, 2, 3, 2], [1, 0, 2, 1, 2, 1, 0, 3], [1, 0, 2, 2, 0, 1, 2, 0], [1, 0, 2, 3, 3, 1, 3, 3], [1, 0, 2, 0, 3, 3, 1, 0], [1, 0, 2, 1, 0, 3, 1, 3], [1, 0, 2, 0, 3, 1, 2, 1], [1, 0, 2, 0, 0, 2, 0, 3], [3, 0, 2, 3, 2, 1, 0, 0], [3, 0, 2, 2, 0, 2, 1, 3], [1, 0, 2, 2, 0, 3, 0, 3], [1, 0, 2, 2, 3, 1, 3, 1], [1, 0, 2, 0, 0, 2, 0, 0], [1, 0, 2, 3, 0, 1, 1, 3], [1, 0, 2, 0, 2, 3, 3, 3], [1, 0, 2, 0, 1, 3, 1, 1], [1, 0, 2, 2, 1, 1, 0, 3], [1, 0, 2, 0, 1, 0, 2, 0], [1, 0, 2, 0, 0, 2, 2, 0], [1, 0, 2, 2, 3, 2, 2, 2], [1, 0, 2, 0, 0, 0, 0, 0], [1, 0, 2, 2, 3, 2, 3, 1], [0, 0, 2, 2, 1, 3, 2, 1], [1, 0, 2, 0, 2, 0, 0, 3], [1, 0, 2, 1, 0, 2, 1, 1], [1, 0, 2, 1, 1, 3, 1, 1], [0, 0, 2, 0, 2, 2, 0, 2], [1, 0, 2, 1, 2, 3, 3, 3], [1, 0, 2, 3, 2, 3, 2, 0], [3, 0, 2, 0, 2, 3, 3, 1], [1, 0, 2, 0, 2, 0, 3, 2], [1, 0, 2, 2, 3, 2, 0, 2], [1, 0, 2, 0, 2, 1, 3, 1], [1, 0, 2, 2, 1, 1, 2, 1], [1, 0, 2, 3, 3, 1, 1, 2], [2, 0, 2, 3, 2, 1, 1, 3], [1, 0, 2, 0, 1, 2, 2, 1], [1, 0, 2, 2, 2, 0, 1, 0], [0, 0, 2, 2, 1, 0, 0, 1], [1, 0, 2, 3, 3, 3, 2, 3], [1, 0, 2, 0, 3, 3, 3, 3], [1, 0, 2, 2, 0, 2, 0, 0], [1, 0, 2, 1, 0, 3, 1, 2], [1, 0, 2, 0, 2, 1, 2, 3], [3, 0, 2, 3, 0, 3, 2, 3], [0, 0, 2, 0, 1, 1, 0, 2], [3, 0, 2, 2, 0, 0, 1, 0], [3, 0, 2, 2, 3, 3, 0, 1], [1, 0, 2, 3, 3, 2, 3, 0], [1, 0, 2, 2, 0, 2, 1, 2], [3, 0, 2, 2, 2, 0, 3, 2], [3, 0, 2, 2, 1, 0, 0, 2], [1, 0, 2, 2, 3, 2, 2, 1], [1, 0, 2, 1, 1, 3, 0, 0], [1, 0, 2, 2, 2, 0, 1, 1], [1, 0, 2, 0, 0, 3, 2, 3], [1, 0, 2, 3, 3, 2, 0, 2], [1, 0, 2, 2, 2, 0, 3, 2], [1, 0, 2, 0, 1, 0, 3, 0], [1, 0, 2, 2, 0, 1, 3, 0], [3, 0, 2, 1, 3, 2, 1, 3], [1, 0, 2, 2, 2, 0, 0, 3], [1, 0, 2, 0, 2, 1, 1, 3], [1, 0, 2, 2, 0, 2, 3, 2], [1, 0, 2, 0, 3, 2, 2, 1], [1, 0, 2, 0, 1, 3, 1, 0], [1, 0, 2, 1, 3, 2, 2, 1], [1, 0, 2, 0, 1, 2, 2, 3], [1, 0, 2, 0, 2, 2, 3, 2], [1, 0, 2, 3, 2, 0, 0, 2], [1, 0, 2, 2, 3, 2, 2, 3], [1, 0, 2, 2, 0, 2, 0, 2], [1, 0, 2, 1, 3, 1, 1, 0], [1, 0, 2, 3, 3, 3, 1, 1], [3, 0, 2, 0, 3, 2, 3, 1], [1, 0, 2, 0, 3, 2, 2, 0], [1, 0, 2, 2, 0, 0, 2, 3], [1, 0, 2, 2, 2, 3, 2, 1], [1, 0, 2, 2, 1, 2, 1, 3], [1, 0, 2, 1, 0, 0, 0, 0], [3, 0, 2, 3, 1, 3, 3, 2], [3, 0, 2, 2, 2, 3, 2, 0], [1, 0, 2, 2, 0, 2, 1, 0], [1, 0, 2, 2, 1, 1, 1, 1], [1, 0, 2, 2, 2, 1, 3, 3], [1, 0, 2, 1, 1, 1, 3, 1], [1, 0, 2, 2, 0, 3, 3, 1], [1, 0, 2, 2, 2, 0, 2, 1], [1, 0, 2, 2, 2, 0, 2, 3], [1, 0, 2, 0, 0, 0, 3, 2], [1, 0, 2, 0, 2, 0, 0, 0], [3, 0, 2, 2, 0, 1, 1, 0], [1, 0, 2, 0, 2, 2, 0, 3], [1, 0, 2, 2, 2, 1, 1, 2], [3, 0, 2, 3, 3, 0, 3, 2], [3, 0, 2, 2, 3, 1, 3, 1], [1, 0, 2, 2, 0, 1, 3, 3], [1, 0, 2, 1, 0, 1, 1, 0], [1, 0, 2, 2, 2, 2, 1, 3], [1, 0, 2, 1, 0, 0, 3, 2], [1, 0, 2, 1, 0, 2, 2, 0], [1, 0, 2, 2, 2, 2, 1, 0], [1, 0, 2, 1, 2, 0, 3, 2], [1, 0, 2, 0, 0, 0, 1, 3], [1, 0, 2, 2, 2, 1, 2, 3], [1, 0, 2, 2, 1, 0, 3, 1], [1, 0, 2, 1, 3, 2, 0, 2], [1, 0, 2, 2, 3, 0, 3, 2], [1, 0, 2, 0, 3, 1, 0, 3], [3, 0, 2, 0, 2, 3, 2, 1], [1, 0, 2, 0, 0, 1, 1, 3], [1, 0, 2, 2, 3, 2, 2, 0], [1, 0, 2, 1, 3, 2, 2, 3], [1, 0, 2, 0, 1, 0, 3, 3], [1, 0, 2, 0, 0, 2, 2, 3], [3, 0, 2, 2, 0, 2, 0, 0], [1, 0, 2, 0, 3, 3, 2, 3], [1, 0, 2, 0, 2, 2, 0, 0], [1, 0, 2, 2, 0, 3, 2, 0], [1, 0, 2, 0, 1, 3, 2, 0], [3, 0, 2, 2, 3, 3, 2, 2], [1, 0, 2, 1, 3, 3, 1, 1], [3, 0, 2, 2, 1, 3, 2, 0], [3, 0, 2, 0, 3, 1, 0, 1], [3, 0, 2, 0, 1, 2, 0, 0], [3, 0, 2, 0, 2, 0, 1, 1], [1, 0, 2, 2, 1, 0, 0, 1], [3, 0, 2, 0, 2, 3, 1, 0], [1, 0, 2, 3, 2, 0, 1, 3], [3, 0, 2, 2, 2, 1, 0, 2], [3, 0, 2, 2, 2, 3, 0, 8], [1, 0, 2, 2, 2, 0, 0, 0], [2, 0, 2, 1, 3, 2, 2, 3], [1, 0, 2, 0, 1, 0, 0, 2], [0, 0, 2, 2, 1, 0, 1, 3], [3, 0, 2, 1, 0, 1, 3, 0], [1, 0, 2, 3, 2, 3, 3, 1], [1, 0, 2, 1, 3, 3, 2, 3], [1, 0, 2, 2, 3, 0, 0, 1], [1, 0, 2, 0, 0, 3, 1, 0], [1, 0, 2, 2, 1, 1, 0, 2], [1, 0, 2, 0, 2, 2, 0, 2], [1, 0, 2, 0, 1, 3, 2, 3], [1, 0, 2, 2, 1, 0, 2, 2], [1, 0, 2, 2, 3, 0, 1, 2], [0, 0, 2, 1, 3, 3, 2, 1], [0, 0, 2, 2, 3, 3, 0, 1], [1, 0, 2, 0, 2, 1, 1, 1], [1, 0, 2, 3, 1, 3, 3, 2], [1, 0, 2, 0, 1, 0, 0, 0], [3, 0, 2, 2, 3, 2, 0, 3], [1, 0, 2, 1, 0, 1, 0, 2], [1, 0, 2, 2, 0, 0, 1, 0], [3, 0, 2, 2, 2, 2, 1, 3], [3, 0, 2, 2, 0, 2, 0, 1], [1, 0, 2, 3, 3, 1, 1, 1], [1, 0, 2, 2, 0, 3, 1, 0], [1, 0, 2, 1, 0, 0, 0, 1], [1, 0, 2, 0, 0, 3, 3, 3], [1, 0, 2, 2, 0, 0, 0, 3], [3, 0, 2, 3, 2, 0, 3, 1], [1, 0, 2, 0, 3, 0, 1, 1], [1, 0, 2, 0, 0, 0, 1, 1], [3, 0, 2, 2, 0, 0, 0, 1], [3, 0, 2, 2, 0, 0, 3, 1], [1, 0, 2, 1, 1, 0, 1, 1], [1, 0, 2, 2, 3, 3, 3, 1], [1, 0, 2, 1, 2, 1, 3, 2], [1, 0, 2, 3, 2, 3, 1, 3], [1, 0, 2, 2, 2, 1, 2, 0], [1, 0, 2, 1, 2, 3, 2, 0], [1, 0, 2, 0, 3, 2, 0, 0], [3, 0, 2, 2, 1, 1, 2, 0], [3, 0, 2, 3, 3, 3, 3, 2], [1, 0, 2, 2, 1, 2, 2, 1], [1, 0, 2, 2, 3, 1, 0, 2], [1, 0, 2, 2, 3, 2, 1, 1], [1, 0, 2, 0, 3, 2, 2, 2], [1, 0, 2, 2, 0, 3, 3, 0], [1, 0, 2, 3, 2, 1, 1, 3], [1, 0, 2, 0, 2, 0, 2, 1], [3, 0, 2, 0, 1, 3, 1, 1], [1, 0, 2, 3, 1, 3, 2, 1], [1, 0, 2, 0, 3, 3, 1, 1], [1, 0, 2, 2, 1, 1, 1, 2], [1, 0, 2, 2, 1, 3, 2, 1], [1, 0, 2, 1, 3, 1, 3, 3], [1, 0, 2, 2, 3, 3, 2, 1], [1, 0, 2, 1, 3, 1, 1, 3], [1, 3, 0, 1, 1, 3, 2, 0], [2, 3, 1, 1, 0, 3, 2, 3]]\n"
     ]
    }
   ],
   "source": [
    "cdata= cdata[0:1537]\n",
    "quantidade = len(cdata)\n",
    "while i < quantidade:\n",
    "    b=cdata.count(cdata[i])\n",
    "    if b>1:\n",
    "        for j in range(b-1):\n",
    "            cdata.remove(cdata[i])\n",
    "        i= i\n",
    "    else:\n",
    "        i=i+1\n",
    "    quantidade = len(cdata)\n",
    "print(cdata)"
   ]
  },
  {
   "cell_type": "code",
   "execution_count": 26,
   "metadata": {},
   "outputs": [
    {
     "data": {
      "text/plain": [
       "2"
      ]
     },
     "execution_count": 26,
     "metadata": {},
     "output_type": "execute_result"
    }
   ],
   "source": [
    "a= [[0,0],[99,9]]\n",
    "a1= str(a[0])\n",
    "b='0'\n",
    "a1.count(b)"
   ]
  },
  {
   "cell_type": "code",
   "execution_count": 1,
   "metadata": {},
   "outputs": [
    {
     "name": "stdout",
     "output_type": "stream",
     "text": [
      "4\n"
     ]
    }
   ],
   "source": [
    "a=[0,0,0,0]\n",
    "print(len(a))"
   ]
  },
  {
   "cell_type": "code",
   "execution_count": null,
   "metadata": {
    "collapsed": true
   },
   "outputs": [],
   "source": [
    "#sl sequencias\n",
    "def sldata():\n",
    "    import splicenum as sp\n",
    "    a, b= sp.splicenum()\n",
    "    indices= range(27,35,1)\n",
    "    slseq=[]\n",
    "    for j in range(len(a)):\n",
    "        vazio1=[]\n",
    "        for i in range(len(indices)):\n",
    "            v= a[j][indices[i]]\n",
    "            vazio1.append(v)\n",
    "        slseq.append(vazio1)\n",
    "    cdata= slseq\n",
    "    ctarg= b\n",
    "    cdata= cdata[0:1537]\n",
    "    quantidade = len(cdata)\n",
    "    while i < quantidade:\n",
    "        b=cdata.count(cdata[i])\n",
    "        if b>1:\n",
    "            for j in range(b-1):\n",
    "                cdata.remove(cdata[i])\n",
    "            i= i\n",
    "        else:\n",
    "            i=i+1\n",
    "        quantidade = len(cdata)\n",
    "        #tabela atributo valor - contagem\n",
    "    a, b= sp.splicenum()\n",
    "    AV=[]\n",
    "    for i in range(len(a)):\n",
    "        vezes=[]\n",
    "        a1= str(a[i])\n",
    "        for j in range(len(cdata)):\n",
    "            c1= str(cdata[j])\n",
    "            c1= c1.replace('[','')\n",
    "            c1= c1.replace(']','')\n",
    "            c= a1.count(c1)\n",
    "            vezes.append(c)\n",
    "        AV.append(vezes)\n",
    "    #print(len(AV))\n",
    "    return AV , b"
   ]
  }
 ],
 "metadata": {
  "kernelspec": {
   "display_name": "Python 3",
   "language": "python",
   "name": "python3"
  },
  "language_info": {
   "codemirror_mode": {
    "name": "ipython",
    "version": 3
   },
   "file_extension": ".py",
   "mimetype": "text/x-python",
   "name": "python",
   "nbconvert_exporter": "python",
   "pygments_lexer": "ipython3",
   "version": "3.6.8"
  }
 },
 "nbformat": 4,
 "nbformat_minor": 2
}
