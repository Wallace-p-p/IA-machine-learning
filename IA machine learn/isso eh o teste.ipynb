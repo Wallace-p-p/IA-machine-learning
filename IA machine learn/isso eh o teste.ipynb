{
 "cells": [
  {
   "cell_type": "code",
   "execution_count": 1,
   "metadata": {
    "collapsed": true
   },
   "outputs": [],
   "source": [
    "import os\n",
    "os.chdir('C:\\\\Users\\\\Usuario\\\\Desktop\\\\wallace\\\\UNILA\\\\DNA IC')"
   ]
  },
  {
   "cell_type": "code",
   "execution_count": 2,
   "metadata": {
    "collapsed": true
   },
   "outputs": [],
   "source": [
    "data1= open('splice.data.txt', 'r')\n",
    "f= data1.readlines()\n",
    "for i in range(len(f)):\n",
    "    f[i]= f[i].split(',')\n",
    "for i in range(len(f)):\n",
    "    del(f[i][1])\n",
    "for i in range(len(f)):\n",
    "    f[i][1]=f[i][1].split()[0]\n",
    "c=[]\n",
    "for i in range(len(f)):\n",
    "    b=[]\n",
    "    if f[i][0]=='EI':\n",
    "        b.append(0)\n",
    "    elif f[i][0]=='IE':\n",
    "        b.append(1)\n",
    "    elif f[i][0]=='N':\n",
    "        b.append(2)\n",
    "    a=[]\n",
    "    for j in range(len(f[i][1])):\n",
    "        if f[i][1][j]=='A':\n",
    "            a.append(0)\n",
    "        elif f[i][1][j]=='C':\n",
    "            a.append(1)\n",
    "        elif f[i][1][j]=='G':\n",
    "            a.append(2)\n",
    "        elif f[i][1][j]=='T':\n",
    "            a.append(3)\n",
    "        else:\n",
    "            a.append(8)\n",
    "    b.append(a)\n",
    "    c.append(b)\n",
    "cdata=[]\n",
    "ctarg=[]\n",
    "\n",
    "for i in range(len(c)):\n",
    "    cdata.append(c[i][1])\n",
    "    ctarg.append((c[i][0]))"
   ]
  },
  {
   "cell_type": "code",
   "execution_count": 3,
   "metadata": {
    "collapsed": true
   },
   "outputs": [],
   "source": [
    "import numpy as np\n",
    "from sklearn import svm\n",
    "from sklearn.model_selection import cross_val_score\n",
    "from sklearn.model_selection import ShuffleSplit\n",
    "from sklearn import tree\n",
    "from sklearn.svm import SVC\n",
    "from sklearn.neighbors import KNeighborsClassifier\n",
    "from sklearn.naive_bayes import GaussianNB\n",
    "from sklearn.neural_network import MLPClassifier\n",
    "from sklearn.metrics import confusion_matrix\n",
    "from sklearn.metrics import classification_report,confusion_matrix\n",
    "from sklearn.model_selection import cross_val_predict\n",
    "from sklearn.metrics import confusion_matrix\n",
    "from sklearn.linear_model import SGDClassifier\n",
    "from sklearn.feature_selection import SelectFromModel\n",
    "from sklearn.gaussian_process import GaussianProcessClassifier\n",
    "from sklearn.ensemble import BaggingClassifier\n",
    "from sklearn.ensemble import RandomForestClassifier\n",
    "from sklearn.ensemble import AdaBoostClassifier\n",
    "from sklearn.ensemble import GradientBoostingClassifier\n",
    "from sklearn.ensemble import VotingClassifier"
   ]
  },
  {
   "cell_type": "code",
   "execution_count": 4,
   "metadata": {},
   "outputs": [
    {
     "name": "stdout",
     "output_type": "stream",
     "text": [
      "60 8\n"
     ]
    }
   ],
   "source": [
    "clf=tree.DecisionTreeClassifier()\n",
    "clf= clf.fit(cdata,ctarg)\n",
    "model = SelectFromModel(clf, prefit=True)\n",
    "x = model.transform(cdata)\n",
    "print(len(cdata[0]),len(x[0]))"
   ]
  },
  {
   "cell_type": "code",
   "execution_count": 22,
   "metadata": {},
   "outputs": [
    {
     "ename": "TypeError",
     "evalue": "object() takes no parameters",
     "output_type": "error",
     "traceback": [
      "\u001b[1;31m---------------------------------------------------------------------------\u001b[0m",
      "\u001b[1;31mTypeError\u001b[0m                                 Traceback (most recent call last)",
      "\u001b[1;32m<ipython-input-22-3a8811500dcd>\u001b[0m in \u001b[0;36m<module>\u001b[1;34m()\u001b[0m\n\u001b[0;32m      8\u001b[0m \u001b[1;32mfrom\u001b[0m \u001b[0msklearn\u001b[0m\u001b[1;33m.\u001b[0m\u001b[0mutils\u001b[0m \u001b[1;32mimport\u001b[0m \u001b[0mcheck_array\u001b[0m\u001b[1;33m,\u001b[0m \u001b[0msafe_mask\u001b[0m\u001b[1;33m\u001b[0m\u001b[1;33m\u001b[0m\u001b[0m\n\u001b[0;32m      9\u001b[0m \u001b[1;32mfrom\u001b[0m \u001b[0msklearn\u001b[0m\u001b[1;33m.\u001b[0m\u001b[0mfeature_selection\u001b[0m \u001b[1;32mimport\u001b[0m \u001b[0mbase\u001b[0m \u001b[1;32mas\u001b[0m \u001b[0mh\u001b[0m\u001b[1;33m\u001b[0m\u001b[1;33m\u001b[0m\u001b[0m\n\u001b[1;32m---> 10\u001b[1;33m \u001b[0mh\u001b[0m\u001b[1;33m.\u001b[0m\u001b[0mSelectorMixin\u001b[0m\u001b[1;33m(\u001b[0m\u001b[0mx\u001b[0m\u001b[1;33m)\u001b[0m\u001b[1;33m\u001b[0m\u001b[1;33m\u001b[0m\u001b[0m\n\u001b[0m\u001b[0;32m     11\u001b[0m \u001b[0ma\u001b[0m\u001b[1;33m=\u001b[0m \u001b[0mget_support\u001b[0m\u001b[1;33m(\u001b[0m\u001b[0mmodel\u001b[0m\u001b[1;33m.\u001b[0m\u001b[0mtransform\u001b[0m\u001b[1;33m(\u001b[0m\u001b[0mcdata\u001b[0m\u001b[1;33m)\u001b[0m\u001b[1;33m,\u001b[0m \u001b[0mindices\u001b[0m\u001b[1;33m=\u001b[0m\u001b[1;32mFalse\u001b[0m\u001b[1;33m)\u001b[0m\u001b[1;33m\u001b[0m\u001b[1;33m\u001b[0m\u001b[0m\n",
      "\u001b[1;31mTypeError\u001b[0m: object() takes no parameters"
     ]
    }
   ],
   "source": [
    "from abc import ABCMeta, abstractmethod\n",
    "from warnings import warn\n",
    "\n",
    "import numpy as np\n",
    "from scipy.sparse import issparse, csc_matrix\n",
    "\n",
    "from sklearn.base import TransformerMixin\n",
    "from sklearn.utils import check_array, safe_mask\n",
    "from sklearn.feature_selection import base as h\n",
    "h.SelectorMixin(x)\n",
    "a= get_support(model.transform(cdata), indices=False)"
   ]
  },
  {
   "cell_type": "code",
   "execution_count": 5,
   "metadata": {},
   "outputs": [
    {
     "name": "stdout",
     "output_type": "stream",
     "text": [
      "Voting Classifier\n"
     ]
    },
    {
     "name": "stderr",
     "output_type": "stream",
     "text": [
      "C:\\Users\\Usuario\\Anaconda3\\lib\\site-packages\\sklearn\\svm\\base.py:196: FutureWarning: The default value of gamma will change from 'auto' to 'scale' in version 0.22 to account better for unscaled features. Set gamma explicitly to 'auto' or 'scale' to avoid this warning.\n",
      "  \"avoid this warning.\", FutureWarning)\n",
      "C:\\Users\\Usuario\\Anaconda3\\lib\\site-packages\\sklearn\\svm\\base.py:196: FutureWarning: The default value of gamma will change from 'auto' to 'scale' in version 0.22 to account better for unscaled features. Set gamma explicitly to 'auto' or 'scale' to avoid this warning.\n",
      "  \"avoid this warning.\", FutureWarning)\n",
      "C:\\Users\\Usuario\\Anaconda3\\lib\\site-packages\\sklearn\\svm\\base.py:196: FutureWarning: The default value of gamma will change from 'auto' to 'scale' in version 0.22 to account better for unscaled features. Set gamma explicitly to 'auto' or 'scale' to avoid this warning.\n",
      "  \"avoid this warning.\", FutureWarning)\n",
      "C:\\Users\\Usuario\\Anaconda3\\lib\\site-packages\\sklearn\\svm\\base.py:196: FutureWarning: The default value of gamma will change from 'auto' to 'scale' in version 0.22 to account better for unscaled features. Set gamma explicitly to 'auto' or 'scale' to avoid this warning.\n",
      "  \"avoid this warning.\", FutureWarning)\n",
      "C:\\Users\\Usuario\\Anaconda3\\lib\\site-packages\\sklearn\\svm\\base.py:196: FutureWarning: The default value of gamma will change from 'auto' to 'scale' in version 0.22 to account better for unscaled features. Set gamma explicitly to 'auto' or 'scale' to avoid this warning.\n",
      "  \"avoid this warning.\", FutureWarning)\n",
      "C:\\Users\\Usuario\\Anaconda3\\lib\\site-packages\\sklearn\\svm\\base.py:196: FutureWarning: The default value of gamma will change from 'auto' to 'scale' in version 0.22 to account better for unscaled features. Set gamma explicitly to 'auto' or 'scale' to avoid this warning.\n",
      "  \"avoid this warning.\", FutureWarning)\n",
      "C:\\Users\\Usuario\\Anaconda3\\lib\\site-packages\\sklearn\\svm\\base.py:196: FutureWarning: The default value of gamma will change from 'auto' to 'scale' in version 0.22 to account better for unscaled features. Set gamma explicitly to 'auto' or 'scale' to avoid this warning.\n",
      "  \"avoid this warning.\", FutureWarning)\n",
      "C:\\Users\\Usuario\\Anaconda3\\lib\\site-packages\\sklearn\\svm\\base.py:196: FutureWarning: The default value of gamma will change from 'auto' to 'scale' in version 0.22 to account better for unscaled features. Set gamma explicitly to 'auto' or 'scale' to avoid this warning.\n",
      "  \"avoid this warning.\", FutureWarning)\n",
      "C:\\Users\\Usuario\\Anaconda3\\lib\\site-packages\\sklearn\\svm\\base.py:196: FutureWarning: The default value of gamma will change from 'auto' to 'scale' in version 0.22 to account better for unscaled features. Set gamma explicitly to 'auto' or 'scale' to avoid this warning.\n",
      "  \"avoid this warning.\", FutureWarning)\n",
      "C:\\Users\\Usuario\\Anaconda3\\lib\\site-packages\\sklearn\\svm\\base.py:196: FutureWarning: The default value of gamma will change from 'auto' to 'scale' in version 0.22 to account better for unscaled features. Set gamma explicitly to 'auto' or 'scale' to avoid this warning.\n",
      "  \"avoid this warning.\", FutureWarning)\n",
      "C:\\Users\\Usuario\\Anaconda3\\lib\\site-packages\\sklearn\\svm\\base.py:196: FutureWarning: The default value of gamma will change from 'auto' to 'scale' in version 0.22 to account better for unscaled features. Set gamma explicitly to 'auto' or 'scale' to avoid this warning.\n",
      "  \"avoid this warning.\", FutureWarning)\n",
      "C:\\Users\\Usuario\\Anaconda3\\lib\\site-packages\\sklearn\\svm\\base.py:196: FutureWarning: The default value of gamma will change from 'auto' to 'scale' in version 0.22 to account better for unscaled features. Set gamma explicitly to 'auto' or 'scale' to avoid this warning.\n",
      "  \"avoid this warning.\", FutureWarning)\n",
      "C:\\Users\\Usuario\\Anaconda3\\lib\\site-packages\\sklearn\\svm\\base.py:196: FutureWarning: The default value of gamma will change from 'auto' to 'scale' in version 0.22 to account better for unscaled features. Set gamma explicitly to 'auto' or 'scale' to avoid this warning.\n",
      "  \"avoid this warning.\", FutureWarning)\n",
      "C:\\Users\\Usuario\\Anaconda3\\lib\\site-packages\\sklearn\\svm\\base.py:196: FutureWarning: The default value of gamma will change from 'auto' to 'scale' in version 0.22 to account better for unscaled features. Set gamma explicitly to 'auto' or 'scale' to avoid this warning.\n",
      "  \"avoid this warning.\", FutureWarning)\n",
      "C:\\Users\\Usuario\\Anaconda3\\lib\\site-packages\\sklearn\\svm\\base.py:196: FutureWarning: The default value of gamma will change from 'auto' to 'scale' in version 0.22 to account better for unscaled features. Set gamma explicitly to 'auto' or 'scale' to avoid this warning.\n",
      "  \"avoid this warning.\", FutureWarning)\n",
      "C:\\Users\\Usuario\\Anaconda3\\lib\\site-packages\\sklearn\\svm\\base.py:196: FutureWarning: The default value of gamma will change from 'auto' to 'scale' in version 0.22 to account better for unscaled features. Set gamma explicitly to 'auto' or 'scale' to avoid this warning.\n",
      "  \"avoid this warning.\", FutureWarning)\n",
      "C:\\Users\\Usuario\\Anaconda3\\lib\\site-packages\\sklearn\\svm\\base.py:196: FutureWarning: The default value of gamma will change from 'auto' to 'scale' in version 0.22 to account better for unscaled features. Set gamma explicitly to 'auto' or 'scale' to avoid this warning.\n",
      "  \"avoid this warning.\", FutureWarning)\n",
      "C:\\Users\\Usuario\\Anaconda3\\lib\\site-packages\\sklearn\\svm\\base.py:196: FutureWarning: The default value of gamma will change from 'auto' to 'scale' in version 0.22 to account better for unscaled features. Set gamma explicitly to 'auto' or 'scale' to avoid this warning.\n",
      "  \"avoid this warning.\", FutureWarning)\n",
      "C:\\Users\\Usuario\\Anaconda3\\lib\\site-packages\\sklearn\\svm\\base.py:196: FutureWarning: The default value of gamma will change from 'auto' to 'scale' in version 0.22 to account better for unscaled features. Set gamma explicitly to 'auto' or 'scale' to avoid this warning.\n",
      "  \"avoid this warning.\", FutureWarning)\n",
      "C:\\Users\\Usuario\\Anaconda3\\lib\\site-packages\\sklearn\\svm\\base.py:196: FutureWarning: The default value of gamma will change from 'auto' to 'scale' in version 0.22 to account better for unscaled features. Set gamma explicitly to 'auto' or 'scale' to avoid this warning.\n",
      "  \"avoid this warning.\", FutureWarning)\n"
     ]
    },
    {
     "name": "stdout",
     "output_type": "stream",
     "text": [
      "\n",
      "Scores: [0.946875   0.940625   0.9375     0.91875    0.95625    0.92476489\n",
      " 0.95297806 0.91823899 0.94321767 0.94637224]\n",
      "Accuracy: 0.94 (+/- 0.03) , ei: 0.95 , ie: 0.95, n: 0.93\n",
      "Confusion:\n",
      " [[ 727   28   12]\n",
      " [  25  729   14]\n",
      " [  37   81 1537]] \n",
      "\n"
     ]
    }
   ],
   "source": [
    "print('Voting Classifier')\n",
    "cdata= x\n",
    "clf1 = GradientBoostingClassifier(n_estimators=100, learning_rate=1.0, max_depth=1, random_state=0)\n",
    "clf2 = AdaBoostClassifier(n_estimators=100)\n",
    "clf3 = tree.DecisionTreeClassifier()\n",
    "clf4 = GaussianNB()\n",
    "clf5 = SVC()\n",
    "\n",
    "\n",
    "clf = VotingClassifier(estimators=[('gbc', clf1), ('ada', clf2), ('DTc', clf3), ('gNB', clf4), ('svc', clf5)], voting='hard')\n",
    "scores = cross_val_score(clf, cdata, ctarg, cv=10)\n",
    "y_pred = cross_val_predict(clf, cdata, ctarg, cv=10)\n",
    "conf_mat = confusion_matrix(ctarg, y_pred)\n",
    "print('\\nScores:',scores)\n",
    "print(\"Accuracy: %0.2f (+/- %0.2f) , ei: %0.2f , ie: %0.2f, n: %0.2f\" % (scores.mean(), scores.std() * 2, conf_mat[0][0]/sum(conf_mat[0]), conf_mat[1][1]/sum(conf_mat[1]),conf_mat[2][2]/sum(conf_mat[2])))\n",
    "print('Confusion:\\n', conf_mat, '\\n')"
   ]
  },
  {
   "cell_type": "code",
   "execution_count": 5,
   "metadata": {},
   "outputs": [
    {
     "name": "stdout",
     "output_type": "stream",
     "text": [
      "Decision Tree \n",
      "Scores: [0.940625   0.90625    0.9        0.934375   0.9375     0.92476489\n",
      " 0.93730408 0.8836478  0.9022082  0.93690852]\n",
      "Accuracy: 0.92 (+/- 0.04) , ei: 0.93 , ie: 0.89, n: 0.93\n",
      "Confusion:\n",
      " [[ 712   23   32]\n",
      " [  34  682   52]\n",
      " [  45   75 1535]] \n",
      "\n",
      "SVC Support Vector Machines \n",
      "Scores: [0.925      0.9        0.9125     0.884375   0.9125     0.89655172\n",
      " 0.93103448 0.89937107 0.88643533 0.89589905]\n",
      "Accuracy: 0.90 (+/- 0.03) , ei: 0.93 , ie: 0.91, n: 0.89\n",
      "Confusion:\n",
      " [[ 717   24   26]\n",
      " [  58  696   14]\n",
      " [  41  142 1472]] \n",
      "\n",
      "Nearest Neighbors2 \n",
      "Scores: [0.903125   0.865625   0.85       0.871875   0.896875   0.85579937\n",
      " 0.89655172 0.87735849 0.84858044 0.87381703]\n",
      "Accuracy: 0.87 (+/- 0.04) , ei: 0.87 , ie: 0.89, n: 0.87\n",
      "Confusion:\n",
      " [[ 669   74   24]\n",
      " [  29  684   55]\n",
      " [  70  150 1435]] \n",
      "\n",
      "GaussianNB \n",
      "Scores: [0.859375   0.909375   0.8875     0.871875   0.921875   0.86206897\n",
      " 0.89028213 0.88679245 0.87381703 0.87697161]\n",
      "Accuracy: 0.88 (+/- 0.04) , ei: 0.78 , ie: 0.98, n: 0.89\n",
      "Confusion:\n",
      " [[ 599  158   10]\n",
      " [  13  751    4]\n",
      " [  59  126 1470]] \n",
      "\n",
      "MLP classifier \n",
      "Scores: [0.734375   0.73125    0.7375     0.728125   0.909375   0.72727273\n",
      " 0.7492163  0.7672956  0.74132492 0.77602524]\n",
      "Accuracy: 0.76 (+/- 0.10) , ei: 0.95 , ie: 0.20, n: 0.93\n",
      "Confusion:\n",
      " [[ 726   14   27]\n",
      " [  53  152  563]\n",
      " [  34   74 1547]] \n",
      "\n"
     ]
    },
    {
     "name": "stderr",
     "output_type": "stream",
     "text": [
      "C:\\Users\\Usuario\\Anaconda3\\lib\\site-packages\\sklearn\\linear_model\\stochastic_gradient.py:183: FutureWarning: max_iter and tol parameters have been added in SGDClassifier in 0.19. If max_iter is set but tol is left unset, the default value for tol in 0.19 and 0.20 will be None (which is equivalent to -infinity, so it has no effect) but will change in 0.21 to 1e-3. Specify tol to silence this warning.\n",
      "  FutureWarning)\n",
      "C:\\Users\\Usuario\\Anaconda3\\lib\\site-packages\\sklearn\\linear_model\\stochastic_gradient.py:183: FutureWarning: max_iter and tol parameters have been added in SGDClassifier in 0.19. If max_iter is set but tol is left unset, the default value for tol in 0.19 and 0.20 will be None (which is equivalent to -infinity, so it has no effect) but will change in 0.21 to 1e-3. Specify tol to silence this warning.\n",
      "  FutureWarning)\n",
      "C:\\Users\\Usuario\\Anaconda3\\lib\\site-packages\\sklearn\\linear_model\\stochastic_gradient.py:183: FutureWarning: max_iter and tol parameters have been added in SGDClassifier in 0.19. If max_iter is set but tol is left unset, the default value for tol in 0.19 and 0.20 will be None (which is equivalent to -infinity, so it has no effect) but will change in 0.21 to 1e-3. Specify tol to silence this warning.\n",
      "  FutureWarning)\n",
      "C:\\Users\\Usuario\\Anaconda3\\lib\\site-packages\\sklearn\\linear_model\\stochastic_gradient.py:183: FutureWarning: max_iter and tol parameters have been added in SGDClassifier in 0.19. If max_iter is set but tol is left unset, the default value for tol in 0.19 and 0.20 will be None (which is equivalent to -infinity, so it has no effect) but will change in 0.21 to 1e-3. Specify tol to silence this warning.\n",
      "  FutureWarning)\n",
      "C:\\Users\\Usuario\\Anaconda3\\lib\\site-packages\\sklearn\\linear_model\\stochastic_gradient.py:183: FutureWarning: max_iter and tol parameters have been added in SGDClassifier in 0.19. If max_iter is set but tol is left unset, the default value for tol in 0.19 and 0.20 will be None (which is equivalent to -infinity, so it has no effect) but will change in 0.21 to 1e-3. Specify tol to silence this warning.\n",
      "  FutureWarning)\n",
      "C:\\Users\\Usuario\\Anaconda3\\lib\\site-packages\\sklearn\\linear_model\\stochastic_gradient.py:183: FutureWarning: max_iter and tol parameters have been added in SGDClassifier in 0.19. If max_iter is set but tol is left unset, the default value for tol in 0.19 and 0.20 will be None (which is equivalent to -infinity, so it has no effect) but will change in 0.21 to 1e-3. Specify tol to silence this warning.\n",
      "  FutureWarning)\n",
      "C:\\Users\\Usuario\\Anaconda3\\lib\\site-packages\\sklearn\\linear_model\\stochastic_gradient.py:183: FutureWarning: max_iter and tol parameters have been added in SGDClassifier in 0.19. If max_iter is set but tol is left unset, the default value for tol in 0.19 and 0.20 will be None (which is equivalent to -infinity, so it has no effect) but will change in 0.21 to 1e-3. Specify tol to silence this warning.\n",
      "  FutureWarning)\n",
      "C:\\Users\\Usuario\\Anaconda3\\lib\\site-packages\\sklearn\\linear_model\\stochastic_gradient.py:183: FutureWarning: max_iter and tol parameters have been added in SGDClassifier in 0.19. If max_iter is set but tol is left unset, the default value for tol in 0.19 and 0.20 will be None (which is equivalent to -infinity, so it has no effect) but will change in 0.21 to 1e-3. Specify tol to silence this warning.\n",
      "  FutureWarning)\n",
      "C:\\Users\\Usuario\\Anaconda3\\lib\\site-packages\\sklearn\\linear_model\\stochastic_gradient.py:183: FutureWarning: max_iter and tol parameters have been added in SGDClassifier in 0.19. If max_iter is set but tol is left unset, the default value for tol in 0.19 and 0.20 will be None (which is equivalent to -infinity, so it has no effect) but will change in 0.21 to 1e-3. Specify tol to silence this warning.\n",
      "  FutureWarning)\n",
      "C:\\Users\\Usuario\\Anaconda3\\lib\\site-packages\\sklearn\\linear_model\\stochastic_gradient.py:183: FutureWarning: max_iter and tol parameters have been added in SGDClassifier in 0.19. If max_iter is set but tol is left unset, the default value for tol in 0.19 and 0.20 will be None (which is equivalent to -infinity, so it has no effect) but will change in 0.21 to 1e-3. Specify tol to silence this warning.\n",
      "  FutureWarning)\n",
      "C:\\Users\\Usuario\\Anaconda3\\lib\\site-packages\\sklearn\\linear_model\\stochastic_gradient.py:183: FutureWarning: max_iter and tol parameters have been added in SGDClassifier in 0.19. If max_iter is set but tol is left unset, the default value for tol in 0.19 and 0.20 will be None (which is equivalent to -infinity, so it has no effect) but will change in 0.21 to 1e-3. Specify tol to silence this warning.\n",
      "  FutureWarning)\n",
      "C:\\Users\\Usuario\\Anaconda3\\lib\\site-packages\\sklearn\\linear_model\\stochastic_gradient.py:183: FutureWarning: max_iter and tol parameters have been added in SGDClassifier in 0.19. If max_iter is set but tol is left unset, the default value for tol in 0.19 and 0.20 will be None (which is equivalent to -infinity, so it has no effect) but will change in 0.21 to 1e-3. Specify tol to silence this warning.\n",
      "  FutureWarning)\n",
      "C:\\Users\\Usuario\\Anaconda3\\lib\\site-packages\\sklearn\\linear_model\\stochastic_gradient.py:183: FutureWarning: max_iter and tol parameters have been added in SGDClassifier in 0.19. If max_iter is set but tol is left unset, the default value for tol in 0.19 and 0.20 will be None (which is equivalent to -infinity, so it has no effect) but will change in 0.21 to 1e-3. Specify tol to silence this warning.\n",
      "  FutureWarning)\n",
      "C:\\Users\\Usuario\\Anaconda3\\lib\\site-packages\\sklearn\\linear_model\\stochastic_gradient.py:183: FutureWarning: max_iter and tol parameters have been added in SGDClassifier in 0.19. If max_iter is set but tol is left unset, the default value for tol in 0.19 and 0.20 will be None (which is equivalent to -infinity, so it has no effect) but will change in 0.21 to 1e-3. Specify tol to silence this warning.\n",
      "  FutureWarning)\n",
      "C:\\Users\\Usuario\\Anaconda3\\lib\\site-packages\\sklearn\\linear_model\\stochastic_gradient.py:183: FutureWarning: max_iter and tol parameters have been added in SGDClassifier in 0.19. If max_iter is set but tol is left unset, the default value for tol in 0.19 and 0.20 will be None (which is equivalent to -infinity, so it has no effect) but will change in 0.21 to 1e-3. Specify tol to silence this warning.\n",
      "  FutureWarning)\n",
      "C:\\Users\\Usuario\\Anaconda3\\lib\\site-packages\\sklearn\\linear_model\\stochastic_gradient.py:183: FutureWarning: max_iter and tol parameters have been added in SGDClassifier in 0.19. If max_iter is set but tol is left unset, the default value for tol in 0.19 and 0.20 will be None (which is equivalent to -infinity, so it has no effect) but will change in 0.21 to 1e-3. Specify tol to silence this warning.\n",
      "  FutureWarning)\n",
      "C:\\Users\\Usuario\\Anaconda3\\lib\\site-packages\\sklearn\\linear_model\\stochastic_gradient.py:183: FutureWarning: max_iter and tol parameters have been added in SGDClassifier in 0.19. If max_iter is set but tol is left unset, the default value for tol in 0.19 and 0.20 will be None (which is equivalent to -infinity, so it has no effect) but will change in 0.21 to 1e-3. Specify tol to silence this warning.\n",
      "  FutureWarning)\n",
      "C:\\Users\\Usuario\\Anaconda3\\lib\\site-packages\\sklearn\\linear_model\\stochastic_gradient.py:183: FutureWarning: max_iter and tol parameters have been added in SGDClassifier in 0.19. If max_iter is set but tol is left unset, the default value for tol in 0.19 and 0.20 will be None (which is equivalent to -infinity, so it has no effect) but will change in 0.21 to 1e-3. Specify tol to silence this warning.\n",
      "  FutureWarning)\n"
     ]
    },
    {
     "name": "stdout",
     "output_type": "stream",
     "text": [
      "SGDclassifier - Stochastic Gradient Descent \n",
      "Scores: [0.590625   0.721875   0.76875    0.5875     0.821875   0.79623824\n",
      " 0.78996865 0.68867925 0.76025237 0.78233438]\n",
      "Accuracy: 0.73 (+/- 0.16) , ei: 0.66 , ie: 0.58, n: 0.81\n",
      "Confusion:\n",
      " [[ 510   82  175]\n",
      " [  87  444  237]\n",
      " [ 129  181 1345]] \n",
      "\n"
     ]
    },
    {
     "name": "stderr",
     "output_type": "stream",
     "text": [
      "C:\\Users\\Usuario\\Anaconda3\\lib\\site-packages\\sklearn\\linear_model\\stochastic_gradient.py:183: FutureWarning: max_iter and tol parameters have been added in SGDClassifier in 0.19. If max_iter is set but tol is left unset, the default value for tol in 0.19 and 0.20 will be None (which is equivalent to -infinity, so it has no effect) but will change in 0.21 to 1e-3. Specify tol to silence this warning.\n",
      "  FutureWarning)\n",
      "C:\\Users\\Usuario\\Anaconda3\\lib\\site-packages\\sklearn\\linear_model\\stochastic_gradient.py:183: FutureWarning: max_iter and tol parameters have been added in SGDClassifier in 0.19. If max_iter is set but tol is left unset, the default value for tol in 0.19 and 0.20 will be None (which is equivalent to -infinity, so it has no effect) but will change in 0.21 to 1e-3. Specify tol to silence this warning.\n",
      "  FutureWarning)\n"
     ]
    }
   ],
   "source": [
    "clf=[]\n",
    "nome=[]\n",
    "clf.append(tree.DecisionTreeClassifier())\n",
    "nome.append('Decision Tree')\n",
    "clf.append(SVC(gamma='auto'))\n",
    "nome.append('SVC Support Vector Machines')\n",
    "clf.append(KNeighborsClassifier(n_neighbors=1))\n",
    "nome.append('Nearest Neighbors2')\n",
    "clf.append(GaussianNB())\n",
    "nome.append('GaussianNB')\n",
    "clf.append(MLPClassifier(solver='lbfgs', alpha=1e-5,hidden_layer_sizes=(5, 2), random_state=1))\n",
    "nome.append('MLP classifier')\n",
    "clf.append(SGDClassifier(loss=\"hinge\", penalty=\"l2\", max_iter=5))\n",
    "nome.append('SGDclassifier - Stochastic Gradient Descent')\n",
    "for i in range(len(clf)):\n",
    "    scores = cross_val_score(clf[i], x, ctarg, cv=10)\n",
    "    y_pred = cross_val_predict(clf[i], x, ctarg, cv=10)\n",
    "    conf_mat = confusion_matrix(ctarg, y_pred)\n",
    "    print(nome[i],'\\nScores:',scores)\n",
    "    print(\"Accuracy: %0.2f (+/- %0.2f) , ei: %0.2f , ie: %0.2f, n: %0.2f\" % (scores.mean(), scores.std() * 2, conf_mat[0][0]/sum(conf_mat[0]), conf_mat[1][1]/sum(conf_mat[1]),conf_mat[2][2]/sum(conf_mat[2])))\n",
    "    print('Confusion:\\n', conf_mat, '\\n')"
   ]
  },
  {
   "cell_type": "code",
   "execution_count": 7,
   "metadata": {},
   "outputs": [
    {
     "name": "stdout",
     "output_type": "stream",
     "text": [
      "Nearest Neighbors1 - hamming \n",
      "Scores: [0.89375    0.85625    0.859375   0.828125   0.89375    0.87774295\n",
      " 0.87460815 0.86163522 0.84858044 0.88643533]\n",
      "Accuracy: 0.87 (+/- 0.04) , ei: 0.88 , ie: 0.90, n: 0.85\n",
      "Confusion:\n",
      " [[ 675   76   16]\n",
      " [  32  688   48]\n",
      " [  71  178 1406]] \n",
      "\n",
      "Nearest Neighbors3 - hamming \n",
      "Scores: [0.8875     0.875      0.875      0.86875    0.9        0.87147335\n",
      " 0.87774295 0.88050314 0.86750789 0.88012618]\n",
      "Accuracy: 0.88 (+/- 0.02) , ei: 0.93 , ie: 0.93, n: 0.83\n",
      "Confusion:\n",
      " [[ 710   48    9]\n",
      " [  34  718   16]\n",
      " [  96  185 1374]] \n",
      "\n",
      "Nearest Neighbors5 - hamming \n",
      "Scores: [0.88125    0.865625   0.878125   0.884375   0.875      0.86833856\n",
      " 0.88714734 0.88050314 0.84542587 0.87381703]\n",
      "Accuracy: 0.87 (+/- 0.02) , ei: 0.94 , ie: 0.94, n: 0.82\n",
      "Confusion:\n",
      " [[ 720   41    6]\n",
      " [  41  719    8]\n",
      " [ 103  203 1349]] \n",
      "\n"
     ]
    }
   ],
   "source": [
    "clf=[]\n",
    "nome=[]\n",
    "clf.append(KNeighborsClassifier(n_neighbors=1, metric= 'hamming'))\n",
    "nome.append('Nearest Neighbors1 - hamming')\n",
    "clf.append(KNeighborsClassifier(n_neighbors=3, metric= 'hamming'))\n",
    "nome.append('Nearest Neighbors3 - hamming')\n",
    "clf.append(KNeighborsClassifier(n_neighbors=5, metric= 'hamming'))\n",
    "nome.append('Nearest Neighbors5 - hamming')\n",
    "for i in range(len(clf)):\n",
    "    scores = cross_val_score(clf[i], x, ctarg, cv=10)\n",
    "    y_pred = cross_val_predict(clf[i], x, ctarg, cv=10)\n",
    "    conf_mat = confusion_matrix(ctarg, y_pred)\n",
    "    print(nome[i],'\\nScores:',scores)\n",
    "    print(\"Accuracy: %0.2f (+/- %0.2f) , ei: %0.2f , ie: %0.2f, n: %0.2f\" % (scores.mean(), scores.std() * 2, conf_mat[0][0]/sum(conf_mat[0]), conf_mat[1][1]/sum(conf_mat[1]),conf_mat[2][2]/sum(conf_mat[2])))\n",
    "    print('Confusion:\\n', conf_mat, '\\n')"
   ]
  },
  {
   "cell_type": "code",
   "execution_count": null,
   "metadata": {
    "collapsed": true
   },
   "outputs": [],
   "source": []
  }
 ],
 "metadata": {
  "kernelspec": {
   "display_name": "Python 3",
   "language": "python",
   "name": "python3"
  },
  "language_info": {
   "codemirror_mode": {
    "name": "ipython",
    "version": 3
   },
   "file_extension": ".py",
   "mimetype": "text/x-python",
   "name": "python",
   "nbconvert_exporter": "python",
   "pygments_lexer": "ipython3",
   "version": "3.6.8"
  }
 },
 "nbformat": 4,
 "nbformat_minor": 2
}
