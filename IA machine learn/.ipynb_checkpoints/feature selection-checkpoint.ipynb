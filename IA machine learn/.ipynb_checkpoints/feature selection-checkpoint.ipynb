{
 "cells": [
  {
   "cell_type": "code",
   "execution_count": 1,
   "metadata": {
    "collapsed": true
   },
   "outputs": [],
   "source": [
    "import os\n",
    "os.chdir('C:\\\\Users\\\\Usuario\\\\Desktop\\\\wallace\\\\UNILA\\\\DNA IC')"
   ]
  },
  {
   "cell_type": "code",
   "execution_count": 2,
   "metadata": {
    "collapsed": true
   },
   "outputs": [],
   "source": [
    "data1= open('splice.data.txt', 'r')\n",
    "f= data1.readlines()\n",
    "for i in range(len(f)):\n",
    "    f[i]= f[i].split(',')\n",
    "for i in range(len(f)):\n",
    "    del(f[i][1])\n",
    "for i in range(len(f)):\n",
    "    f[i][1]=f[i][1].split()[0]\n",
    "c=[]\n",
    "for i in range(len(f)):\n",
    "    b=[]\n",
    "    if f[i][0]=='EI':\n",
    "        b.append(0)\n",
    "    elif f[i][0]=='IE':\n",
    "        b.append(1)\n",
    "    elif f[i][0]=='N':\n",
    "        b.append(2)\n",
    "    a=[]\n",
    "    for j in range(len(f[i][1])):\n",
    "        if f[i][1][j]=='A':\n",
    "            a.append(0)\n",
    "        elif f[i][1][j]=='C':\n",
    "            a.append(1)\n",
    "        elif f[i][1][j]=='G':\n",
    "            a.append(2)\n",
    "        elif f[i][1][j]=='T':\n",
    "            a.append(3)\n",
    "        else:\n",
    "            a.append(8)\n",
    "    b.append(a)\n",
    "    c.append(b)\n",
    "cdata=[]\n",
    "ctarg=[]\n",
    "\n",
    "for i in range(len(c)):\n",
    "    cdata.append(c[i][1])\n",
    "    ctarg.append((c[i][0]))"
   ]
  },
  {
   "cell_type": "code",
   "execution_count": 3,
   "metadata": {
    "collapsed": true
   },
   "outputs": [],
   "source": [
    "import numpy as np\n",
    "from sklearn import svm\n",
    "from sklearn.model_selection import cross_val_score\n",
    "from sklearn.model_selection import ShuffleSplit\n",
    "from sklearn import tree\n",
    "from sklearn.svm import SVC\n",
    "from sklearn.neighbors import KNeighborsClassifier\n",
    "from sklearn.naive_bayes import GaussianNB\n",
    "from sklearn.neural_network import MLPClassifier\n",
    "from sklearn.metrics import confusion_matrix\n",
    "from sklearn.metrics import classification_report,confusion_matrix\n",
    "from sklearn.model_selection import cross_val_predict\n",
    "from sklearn.metrics import confusion_matrix\n",
    "from sklearn.linear_model import SGDClassifier\n",
    "from sklearn.feature_selection import SelectFromModel\n",
    "from sklearn.gaussian_process import GaussianProcessClassifier\n",
    "from sklearn.ensemble import BaggingClassifier\n",
    "from sklearn.ensemble import RandomForestClassifier\n",
    "from sklearn.ensemble import AdaBoostClassifier\n",
    "from sklearn.ensemble import GradientBoostingClassifier\n",
    "from sklearn.ensemble import VotingClassifier"
   ]
  },
  {
   "cell_type": "code",
   "execution_count": 5,
   "metadata": {},
   "outputs": [
    {
     "name": "stdout",
     "output_type": "stream",
     "text": [
      "60 8\n"
     ]
    }
   ],
   "source": [
    "clf=tree.DecisionTreeClassifier()\n",
    "clf= clf.fit(cdata,ctarg)\n",
    "model = SelectFromModel(clf, prefit=True)\n",
    "x = model.transform(cdata)\n",
    "print(len(cdata[0]),len(x[0]))"
   ]
  },
  {
   "cell_type": "code",
   "execution_count": 6,
   "metadata": {},
   "outputs": [
    {
     "name": "stdout",
     "output_type": "stream",
     "text": [
      "Voting Classifier\n",
      "\n",
      "Scores: [ 0.946875    0.940625    0.9375      0.921875    0.95625     0.92163009\n",
      "  0.95611285  0.91823899  0.94321767  0.94637224]\n",
      "Accuracy: 0.94 (+/- 0.03)\n",
      "Confusion:\n",
      " [[ 727   28   12]\n",
      " [  25  730   13]\n",
      " [  38   78 1539]] \n",
      "\n"
     ]
    }
   ],
   "source": [
    "print('Voting Classifier')\n",
    "cdata= x\n",
    "clf1 = GradientBoostingClassifier(n_estimators=100, learning_rate=1.0, max_depth=1, random_state=0)\n",
    "clf2 = AdaBoostClassifier(n_estimators=100)\n",
    "clf3 = tree.DecisionTreeClassifier()\n",
    "clf4 = GaussianNB()\n",
    "clf5 = SVC()\n",
    "\n",
    "\n",
    "clf = VotingClassifier(estimators=[('gbc', clf1), ('ada', clf2), ('DTc', clf3), ('gNB', clf4), ('svc', clf5)], voting='hard')\n",
    "scores = cross_val_score(clf, cdata, ctarg, cv=10)\n",
    "y_pred = cross_val_predict(clf, cdata, ctarg, cv=10)\n",
    "conf_mat = confusion_matrix(ctarg, y_pred)\n",
    "print('\\nScores:',scores)\n",
    "print(\"Accuracy: %0.2f (+/- %0.2f)\" % (scores.mean(), scores.std() * 2))\n",
    "print('Confusion:\\n', conf_mat, '\\n')"
   ]
  },
  {
   "cell_type": "code",
   "execution_count": 8,
   "metadata": {},
   "outputs": [
    {
     "name": "stdout",
     "output_type": "stream",
     "text": [
      "Decision Tree \n",
      "Scores: [ 0.9375      0.909375    0.90625     0.93125     0.940625    0.92163009\n",
      "  0.93730408  0.88679245  0.90536278  0.92744479]\n",
      "Accuracy: 0.92 (+/- 0.03)\n",
      "Confusion:\n",
      " [[ 716   23   28]\n",
      " [  34  680   54]\n",
      " [  40   71 1544]] \n",
      "\n",
      "SVC Support Vector Machines \n",
      "Scores: [ 0.925       0.9         0.9125      0.884375    0.9125      0.89655172\n",
      "  0.93103448  0.89937107  0.88643533  0.89589905]\n",
      "Accuracy: 0.90 (+/- 0.03)\n",
      "Confusion:\n",
      " [[ 717   24   26]\n",
      " [  58  696   14]\n",
      " [  41  142 1472]] \n",
      "\n",
      "Nearest Neighbors2 \n",
      "Scores: [ 0.859375    0.828125    0.84375     0.86875     0.85        0.81818182\n",
      "  0.85579937  0.85849057  0.85804416  0.85488959]\n",
      "Accuracy: 0.85 (+/- 0.03)\n",
      "Confusion:\n",
      " [[ 731   24   12]\n",
      " [  55  700   13]\n",
      " [ 132  244 1279]] \n",
      "\n",
      "Nearest Neighbors3 \n",
      "Scores: [ 0.8875      0.84375     0.859375    0.884375    0.8875      0.85266458\n",
      "  0.89968652  0.87735849  0.87066246  0.86435331]\n",
      "Accuracy: 0.87 (+/- 0.03)\n",
      "Confusion:\n",
      " [[ 701   47   19]\n",
      " [  42  701   25]\n",
      " [  89  184 1382]] \n",
      "\n",
      "Nearest Neighbors4 \n",
      "Scores: [ 0.86875     0.846875    0.83125     0.85        0.878125    0.82758621\n",
      "  0.86206897  0.85220126  0.85488959  0.85173502]\n",
      "Accuracy: 0.85 (+/- 0.03)\n",
      "Confusion:\n",
      " [[ 719   34   14]\n",
      " [  55  699   14]\n",
      " [ 106  248 1301]] \n",
      "\n",
      "Nearest Neighbors5 \n",
      "Scores: [ 0.8875      0.8625      0.85        0.859375    0.871875    0.84012539\n",
      "  0.89028213  0.86477987  0.86119874  0.86435331]\n",
      "Accuracy: 0.87 (+/- 0.03)\n",
      "Confusion:\n",
      " [[ 710   40   17]\n",
      " [  46  698   24]\n",
      " [  91  212 1352]] \n",
      "\n",
      "Gaussian \n",
      "Scores: [ 0.859375    0.909375    0.8875      0.871875    0.921875    0.86206897\n",
      "  0.89028213  0.88679245  0.87381703  0.87697161]\n",
      "Accuracy: 0.88 (+/- 0.04)\n",
      "Confusion:\n",
      " [[ 599  158   10]\n",
      " [  13  751    4]\n",
      " [  59  126 1470]] \n",
      "\n",
      "MLP classifier \n",
      "Scores: [ 0.721875    0.740625    0.7375      0.728125    0.909375    0.72413793\n",
      "  0.7492163   0.7672956   0.74132492  0.77287066]\n",
      "Accuracy: 0.76 (+/- 0.11)\n",
      "Confusion:\n",
      " [[ 729   14   24]\n",
      " [  56  146  566]\n",
      " [  36   72 1547]] \n",
      "\n",
      "SGDclassifier - Stochastic Gradient Descent \n",
      "Scores: [ 0.725       0.828125    0.7625      0.6375      0.746875    0.70219436\n",
      "  0.68025078  0.73584906  0.69085174  0.70977918]\n",
      "Accuracy: 0.72 (+/- 0.10)\n",
      "Confusion:\n",
      " [[ 537   83  147]\n",
      " [  97  469  202]\n",
      " [ 118  225 1312]] \n",
      "\n"
     ]
    }
   ],
   "source": [
    "clf=[]\n",
    "nome=[]\n",
    "clf.append(tree.DecisionTreeClassifier())\n",
    "nome.append('Decision Tree')\n",
    "clf.append(SVC())\n",
    "nome.append('SVC Support Vector Machines')\n",
    "clf.append(KNeighborsClassifier(n_neighbors=2))\n",
    "nome.append('Nearest Neighbors2')\n",
    "clf.append(KNeighborsClassifier(n_neighbors=3))\n",
    "nome.append('Nearest Neighbors3')\n",
    "clf.append(KNeighborsClassifier(n_neighbors=4))\n",
    "nome.append('Nearest Neighbors4')\n",
    "clf.append(KNeighborsClassifier(n_neighbors=5))\n",
    "nome.append('Nearest Neighbors5')\n",
    "clf.append(GaussianNB())\n",
    "nome.append('GaussianNB')\n",
    "clf.append(MLPClassifier(solver='lbfgs', alpha=1e-5,hidden_layer_sizes=(5, 2), random_state=1))\n",
    "nome.append('MLP classifier')\n",
    "clf.append(SGDClassifier(loss=\"hinge\", penalty=\"l2\", max_iter=5))\n",
    "nome.append('SGDclassifier - Stochastic Gradient Descent')\n",
    "clf.append(GaussianProcessClassifier(kernel=kernel, random_state=0))\n",
    "nome.append('Gaussian Process')\n",
    "for i in range(len(clf)):\n",
    "    scores = cross_val_score(clf[i], x, ctarg, cv=10)\n",
    "    y_pred = cross_val_predict(clf[i], x, ctarg, cv=10)\n",
    "    conf_mat = confusion_matrix(ctarg, y_pred)\n",
    "    print(nome[i],'\\nScores:',scores)\n",
    "    print(\"Accuracy: %0.2f (+/- %0.2f)\" % (scores.mean(), scores.std() * 2))\n",
    "    print('Confusion:\\n', conf_mat, '\\n')"
   ]
  },
  {
   "cell_type": "code",
   "execution_count": null,
   "metadata": {
    "collapsed": true
   },
   "outputs": [],
   "source": []
  }
 ],
 "metadata": {
  "kernelspec": {
   "display_name": "Python 3",
   "language": "python",
   "name": "python3"
  },
  "language_info": {
   "codemirror_mode": {
    "name": "ipython",
    "version": 3
   },
   "file_extension": ".py",
   "mimetype": "text/x-python",
   "name": "python",
   "nbconvert_exporter": "python",
   "pygments_lexer": "ipython3",
   "version": "3.6.1"
  }
 },
 "nbformat": 4,
 "nbformat_minor": 2
}
