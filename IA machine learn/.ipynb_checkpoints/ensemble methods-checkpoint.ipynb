{
 "cells": [
  {
   "cell_type": "code",
   "execution_count": 1,
   "metadata": {
    "collapsed": true
   },
   "outputs": [],
   "source": [
    "import os\n",
    "os.chdir('C:\\\\Users\\\\Usuario\\\\Desktop\\\\wallace\\\\UNILA\\\\DNA IC')"
   ]
  },
  {
   "cell_type": "code",
   "execution_count": 2,
   "metadata": {
    "collapsed": true
   },
   "outputs": [],
   "source": [
    "data1= open('splice.data.txt', 'r')\n",
    "f= data1.readlines()\n",
    "for i in range(len(f)):\n",
    "    f[i]= f[i].split(',')\n",
    "for i in range(len(f)):\n",
    "    del(f[i][1])\n",
    "for i in range(len(f)):\n",
    "    f[i][1]=f[i][1].split()[0]\n",
    "c=[]\n",
    "for i in range(len(f)):\n",
    "    b=[]\n",
    "    if f[i][0]=='EI':\n",
    "        b.append(0)\n",
    "    elif f[i][0]=='IE':\n",
    "        b.append(1)\n",
    "    elif f[i][0]=='N':\n",
    "        b.append(2)\n",
    "    a=[]\n",
    "    for j in range(len(f[i][1])):\n",
    "        if f[i][1][j]=='A':\n",
    "            a.append(0)\n",
    "        elif f[i][1][j]=='C':\n",
    "            a.append(1)\n",
    "        elif f[i][1][j]=='G':\n",
    "            a.append(2)\n",
    "        elif f[i][1][j]=='T':\n",
    "            a.append(3)\n",
    "        else:\n",
    "            a.append(8)\n",
    "    b.append(a)\n",
    "    c.append(b)\n",
    "cdata=[]\n",
    "ctarg=[]\n",
    "\n",
    "for i in range(len(c)):\n",
    "    cdata.append(c[i][1])\n",
    "    ctarg.append((c[i][0]))"
   ]
  },
  {
   "cell_type": "code",
   "execution_count": 16,
   "metadata": {
    "collapsed": true
   },
   "outputs": [],
   "source": [
    "import numpy as np\n",
    "from sklearn import svm\n",
    "from sklearn.model_selection import cross_val_score\n",
    "from sklearn.model_selection import ShuffleSplit\n",
    "from sklearn import tree\n",
    "from sklearn.svm import SVC\n",
    "from sklearn.neighbors import KNeighborsClassifier\n",
    "from sklearn.naive_bayes import GaussianNB\n",
    "from sklearn.neural_network import MLPClassifier\n",
    "from sklearn.metrics import confusion_matrix\n",
    "from sklearn.metrics import classification_report,confusion_matrix\n",
    "from sklearn.model_selection import cross_val_predict\n",
    "from sklearn.linear_model import SGDClassifier\n",
    "from sklearn.gaussian_process import GaussianProcessClassifier\n",
    "from sklearn.ensemble import BaggingClassifier\n",
    "from sklearn.ensemble import RandomForestClassifier\n",
    "from sklearn.ensemble import AdaBoostClassifier\n",
    "from sklearn.ensemble import GradientBoostingClassifier\n",
    "from sklearn.ensemble import VotingClassifier"
   ]
  },
  {
   "cell_type": "code",
   "execution_count": 9,
   "metadata": {},
   "outputs": [
    {
     "name": "stdout",
     "output_type": "stream",
     "text": [
      "BAGGING\n",
      "Decision Tree \n",
      "Scores: [ 0.921875    0.90625     0.93125     0.9125      0.91875     0.90909091\n",
      "  0.90595611  0.93396226  0.89905363  0.93690852]\n",
      "Accuracy: 0.92 (+/- 0.02)\n",
      "Confusion:\n",
      " [[ 707   25   35]\n",
      " [  40  663   65]\n",
      " [  38   43 1574]] \n",
      "\n",
      "SVC Support Vector Machines \n",
      "Scores: [ 0.753125    0.734375    0.815625    0.74375     0.86875     0.70219436\n",
      "  0.9153605   0.75786164  0.82018927  0.77602524]\n",
      "Accuracy: 0.79 (+/- 0.12)\n",
      "Confusion:\n",
      " [[ 562   21  184]\n",
      " [  47  443  278]\n",
      " [  65   73 1517]] \n",
      "\n",
      "Nearest Neighbors2 \n",
      "Scores: [ 0.734375    0.684375    0.740625    0.665625    0.7625      0.6677116\n",
      "  0.73667712  0.64465409  0.63722397  0.72555205]\n",
      "Accuracy: 0.70 (+/- 0.09)\n",
      "Confusion:\n",
      " [[ 614   38  115]\n",
      " [ 134  404  230]\n",
      " [ 281  145 1229]] \n",
      "\n",
      "Nearest Neighbors3 \n",
      "Scores: [ 0.76875     0.725       0.70625     0.75        0.759375    0.72100313\n",
      "  0.75862069  0.66352201  0.69716088  0.69085174]\n",
      "Accuracy: 0.72 (+/- 0.07)\n",
      "Confusion:\n",
      " [[ 614   36  117]\n",
      " [ 141  380  247]\n",
      " [ 252  112 1291]] \n",
      "\n",
      "Nearest Neighbors4 \n",
      "Scores: [ 0.7375      0.765625    0.69375     0.721875    0.740625    0.73354232\n",
      "  0.73667712  0.68867925  0.71293375  0.7318612 ]\n",
      "Accuracy: 0.73 (+/- 0.04)\n",
      "Confusion:\n",
      " [[ 647   26   94]\n",
      " [ 105  442  221]\n",
      " [ 225  121 1309]] \n",
      "\n",
      "Nearest Neighbors5 \n",
      "Scores: [ 0.75625     0.709375    0.740625    0.76875     0.725       0.72100313\n",
      "  0.7460815   0.6918239   0.76971609  0.76025237]\n",
      "Accuracy: 0.74 (+/- 0.05)\n",
      "Confusion:\n",
      " [[ 626   24  117]\n",
      " [ 142  326  300]\n",
      " [ 235   97 1323]] \n",
      "\n",
      "GaussianNB \n",
      "Scores: [ 0.81875     0.909375    0.9         0.86875     0.9125      0.89968652\n",
      "  0.86833856  0.88679245  0.77287066  0.87381703]\n",
      "Accuracy: 0.87 (+/- 0.08)\n",
      "Confusion:\n",
      " [[ 570  181   16]\n",
      " [  30  734    4]\n",
      " [  75  200 1380]] \n",
      "\n",
      "MLP classifier \n",
      "Scores: [ 0.659375    0.709375    0.628125    0.778125    0.759375    0.7460815\n",
      "  0.64890282  0.66352201  0.74132492  0.8170347 ]\n",
      "Accuracy: 0.72 (+/- 0.12)\n",
      "Confusion:\n",
      " [[ 517   22  228]\n",
      " [  44  321  403]\n",
      " [  56   57 1542]] \n",
      "\n",
      "SGDclassifier - Stochastic Gradient Descent \n",
      "Scores: [ 0.759375    0.690625    0.721875    0.74375     0.7625      0.73667712\n",
      "  0.78369906  0.71069182  0.75394322  0.69085174]\n",
      "Accuracy: 0.74 (+/- 0.06)\n",
      "Confusion:\n",
      " [[ 490   67  210]\n",
      " [ 133  461  174]\n",
      " [ 237  140 1278]] \n",
      "\n"
     ]
    }
   ],
   "source": [
    "clf=[]\n",
    "nome=[]\n",
    "clf.append(tree.DecisionTreeClassifier())\n",
    "nome.append('Decision Tree')\n",
    "clf.append(SVC())\n",
    "nome.append('SVC Support Vector Machines')\n",
    "clf.append(KNeighborsClassifier(n_neighbors=2))\n",
    "nome.append('Nearest Neighbors2')\n",
    "clf.append(KNeighborsClassifier(n_neighbors=3))\n",
    "nome.append('Nearest Neighbors3')\n",
    "clf.append(KNeighborsClassifier(n_neighbors=4))\n",
    "nome.append('Nearest Neighbors4')\n",
    "clf.append(KNeighborsClassifier(n_neighbors=5))\n",
    "nome.append('Nearest Neighbors5')\n",
    "clf.append(GaussianNB())\n",
    "nome.append('GaussianNB')\n",
    "clf.append(MLPClassifier(solver='lbfgs', alpha=1e-5,hidden_layer_sizes=(5, 2), random_state=1))\n",
    "nome.append('MLP classifier')\n",
    "clf.append(SGDClassifier(loss=\"hinge\", penalty=\"l2\", max_iter=5))\n",
    "nome.append('SGDclassifier - Stochastic Gradient Descent')\n",
    "print('BAGGING')\n",
    "for i in range(len(clf)):\n",
    "    bclf = BaggingClassifier(clf[i], max_samples=0.5, max_features=0.5)\n",
    "    scores = cross_val_score(bclf, cdata, ctarg, cv=10)\n",
    "    y_pred = cross_val_predict(bclf, cdata, ctarg, cv=10)\n",
    "    conf_mat = confusion_matrix(ctarg, y_pred)\n",
    "    print(nome[i],'\\nScores:',scores)\n",
    "    print(\"Accuracy: %0.2f (+/- %0.2f)\" % (scores.mean(), scores.std() * 2))\n",
    "    print('Confusion:\\n', conf_mat, '\\n')\n",
    "\n",
    "\n"
   ]
  },
  {
   "cell_type": "code",
   "execution_count": 11,
   "metadata": {},
   "outputs": [
    {
     "name": "stdout",
     "output_type": "stream",
     "text": [
      "random Forest\n",
      "\n",
      "Scores: [ 0.896875    0.909375    0.91875     0.884375    0.90625     0.87774295\n",
      "  0.92163009  0.90566038  0.88958991  0.92113565]\n",
      "Accuracy: 0.90 (+/- 0.03)\n",
      "Confusion:\n",
      " [[ 699   24   44]\n",
      " [  47  669   52]\n",
      " [  39   77 1539]] \n",
      "\n"
     ]
    }
   ],
   "source": [
    "print('random Forest')\n",
    "clf = RandomForestClassifier(n_estimators=10)\n",
    "scores = cross_val_score(clf, cdata, ctarg, cv=10)\n",
    "y_pred = cross_val_predict(clf, cdata, ctarg, cv=10)\n",
    "conf_mat = confusion_matrix(ctarg, y_pred)\n",
    "print('\\nScores:',scores)\n",
    "print(\"Accuracy: %0.2f (+/- %0.2f)\" % (scores.mean(), scores.std() * 2))\n",
    "print('Confusion:\\n', conf_mat, '\\n')"
   ]
  },
  {
   "cell_type": "code",
   "execution_count": 13,
   "metadata": {},
   "outputs": [
    {
     "name": "stdout",
     "output_type": "stream",
     "text": [
      "AdaBoost\n",
      "\n",
      "Scores: [ 0.928125    0.9375      0.94375     0.921875    0.959375    0.86206897\n",
      "  0.94670846  0.91509434  0.92429022  0.95583596]\n",
      "Accuracy: 0.93 (+/- 0.05)\n",
      "Confusion:\n",
      " [[ 729   23   15]\n",
      " [  31  695   42]\n",
      " [  67   47 1541]] \n",
      "\n"
     ]
    }
   ],
   "source": [
    "print('AdaBoost')\n",
    "clf = AdaBoostClassifier(n_estimators=100)\n",
    "scores = cross_val_score(clf, cdata, ctarg, cv=10)\n",
    "y_pred = cross_val_predict(clf, cdata, ctarg, cv=10)\n",
    "conf_mat = confusion_matrix(ctarg, y_pred)\n",
    "print('\\nScores:',scores)\n",
    "print(\"Accuracy: %0.2f (+/- %0.2f)\" % (scores.mean(), scores.std() * 2))\n",
    "print('Confusion:\\n', conf_mat, '\\n')"
   ]
  },
  {
   "cell_type": "code",
   "execution_count": 15,
   "metadata": {},
   "outputs": [
    {
     "name": "stdout",
     "output_type": "stream",
     "text": [
      "Gradient Tree Boosting\n",
      "\n",
      "Scores: [ 0.953125    0.95        0.95625     0.940625    0.98125     0.92476489\n",
      "  0.95297806  0.94339623  0.95268139  0.96214511]\n",
      "Accuracy: 0.95 (+/- 0.03)\n",
      "Confusion:\n",
      " [[ 731   20   16]\n",
      " [  26  717   25]\n",
      " [  25   42 1588]] \n",
      "\n"
     ]
    }
   ],
   "source": [
    "print('Gradient Tree Boosting')\n",
    "clf = GradientBoostingClassifier(n_estimators=100, learning_rate=1.0, max_depth=1, random_state=0)\n",
    "scores = cross_val_score(clf, cdata, ctarg, cv=10)\n",
    "y_pred = cross_val_predict(clf, cdata, ctarg, cv=10)\n",
    "conf_mat = confusion_matrix(ctarg, y_pred)\n",
    "print('\\nScores:',scores)\n",
    "print(\"Accuracy: %0.2f (+/- %0.2f)\" % (scores.mean(), scores.std() * 2))\n",
    "print('Confusion:\\n', conf_mat, '\\n')"
   ]
  },
  {
   "cell_type": "code",
   "execution_count": 17,
   "metadata": {},
   "outputs": [
    {
     "name": "stdout",
     "output_type": "stream",
     "text": [
      "Voting Classifier\n",
      "\n",
      "Scores: [ 0.95        0.959375    0.953125    0.928125    0.971875    0.93103448\n",
      "  0.95297806  0.94025157  0.94637224  0.94321767]\n",
      "Accuracy: 0.95 (+/- 0.02)\n",
      "Confusion:\n",
      " [[ 734   21   12]\n",
      " [  25  725   18]\n",
      " [  32   62 1561]] \n",
      "\n"
     ]
    }
   ],
   "source": [
    "print('Voting Classifier')\n",
    "clf1 = GradientBoostingClassifier(n_estimators=100, learning_rate=1.0, max_depth=1, random_state=0)\n",
    "clf2 = AdaBoostClassifier(n_estimators=100)\n",
    "clf3 = tree.DecisionTreeClassifier()\n",
    "clf4 = GaussianNB()\n",
    "clf5 = SVC()\n",
    "\n",
    "\n",
    "clf = VotingClassifier(estimators=[('gbc', clf1), ('ada', clf2), ('DTc', clf3), ('gNB', clf4), ('svc', clf5)], voting='hard')\n",
    "scores = cross_val_score(clf, cdata, ctarg, cv=10)\n",
    "y_pred = cross_val_predict(clf, cdata, ctarg, cv=10)\n",
    "conf_mat = confusion_matrix(ctarg, y_pred)\n",
    "print('\\nScores:',scores)\n",
    "print(\"Accuracy: %0.2f (+/- %0.2f)\" % (scores.mean(), scores.std() * 2))\n",
    "print('Confusion:\\n', conf_mat, '\\n')"
   ]
  },
  {
   "cell_type": "code",
   "execution_count": null,
   "metadata": {
    "collapsed": true
   },
   "outputs": [],
   "source": []
  }
 ],
 "metadata": {
  "kernelspec": {
   "display_name": "Python 3",
   "language": "python",
   "name": "python3"
  },
  "language_info": {
   "codemirror_mode": {
    "name": "ipython",
    "version": 3
   },
   "file_extension": ".py",
   "mimetype": "text/x-python",
   "name": "python",
   "nbconvert_exporter": "python",
   "pygments_lexer": "ipython3",
   "version": "3.6.1"
  }
 },
 "nbformat": 4,
 "nbformat_minor": 2
}
