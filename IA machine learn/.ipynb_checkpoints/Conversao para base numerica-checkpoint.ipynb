{
 "cells": [
  {
   "cell_type": "code",
   "execution_count": 5,
   "metadata": {
    "collapsed": true
   },
   "outputs": [],
   "source": [
    "import os\n",
    "os.chdir('C:\\\\Users\\\\Usuario\\\\Desktop\\\\wallace\\\\UNILA\\\\DNA IC')"
   ]
  },
  {
   "cell_type": "code",
   "execution_count": 6,
   "metadata": {
    "collapsed": true
   },
   "outputs": [],
   "source": [
    "data1= open('splice.data.txt', 'r')\n",
    "f= data1.readlines()\n",
    "for i in range(len(f)):\n",
    "    f[i]= f[i].split(',')\n",
    "for i in range(len(f)):\n",
    "    del(f[i][1])\n",
    "for i in range(len(f)):\n",
    "    f[i][1]=f[i][1].split()[0]\n",
    "c=[]\n",
    "for i in range(len(f)):\n",
    "    b=[]\n",
    "    if f[i][0]=='EI':\n",
    "        b.append(0)\n",
    "    elif f[i][0]=='IE':\n",
    "        b.append(1)\n",
    "    elif f[i][0]=='N':\n",
    "        b.append(2)\n",
    "    a=[]\n",
    "    for j in range(len(f[i][1])):\n",
    "        if f[i][1][j]=='A':\n",
    "            a.append(0)\n",
    "        elif f[i][1][j]=='C':\n",
    "            a.append(1)\n",
    "        elif f[i][1][j]=='G':\n",
    "            a.append(2)\n",
    "        elif f[i][1][j]=='T':\n",
    "            a.append(3)\n",
    "        else:\n",
    "            a.append(8)\n",
    "    b.append(a)\n",
    "    c.append(b)\n",
    "cdata=[]\n",
    "ctarg=[]\n",
    "\n",
    "for i in range(len(c)):\n",
    "    cdata.append(c[i][1])\n",
    "    ctarg.append((c[i][0]))"
   ]
  },
  {
   "cell_type": "code",
   "execution_count": 7,
   "metadata": {
    "collapsed": true
   },
   "outputs": [],
   "source": [
    "import numpy as np\n",
    "from sklearn import svm\n",
    "from sklearn.model_selection import cross_val_score\n",
    "from sklearn.model_selection import ShuffleSplit\n",
    "from sklearn import tree\n",
    "from sklearn.svm import SVC\n",
    "from sklearn.neighbors import KNeighborsClassifier\n",
    "from sklearn.naive_bayes import GaussianNB\n",
    "from sklearn.neural_network import MLPClassifier\n",
    "from sklearn.metrics import confusion_matrix\n",
    "from sklearn.metrics import classification_report,confusion_matrix\n",
    "from sklearn.model_selection import cross_val_predict\n",
    "from sklearn.linear_model import SGDClassifier\n",
    "from sklearn.gaussian_process import GaussianProcessClassifier"
   ]
  },
  {
   "cell_type": "code",
   "execution_count": null,
   "metadata": {},
   "outputs": [
    {
     "name": "stdout",
     "output_type": "stream",
     "text": [
      "Decision Tree \n",
      "Scores: [ 0.9125      0.896875    0.91875     0.85        0.925       0.85266458\n",
      "  0.90282132  0.88993711  0.88643533  0.89905363]\n",
      "Accuracy: 0.89 (+/- 0.05)\n",
      "Confusion:\n",
      " [[ 689   38   40]\n",
      " [  40  635   93]\n",
      " [  39   71 1545]] \n",
      "\n",
      "SVC Support Vector Machines \n",
      "Scores: [ 0.859375    0.828125    0.83125     0.828125    0.88125     0.84012539\n",
      "  0.89028213  0.82075472  0.85488959  0.85173502]\n",
      "Accuracy: 0.85 (+/- 0.04)\n",
      "Confusion:\n",
      " [[ 646   22   99]\n",
      " [  54  604  110]\n",
      " [  80  118 1457]] \n",
      "\n",
      "Nearest Neighbors2 \n",
      "Scores: [ 0.575       0.553125    0.5625      0.559375    0.565625    0.56739812\n",
      "  0.53605016  0.5408805   0.52050473  0.57097792]\n",
      "Accuracy: 0.56 (+/- 0.03)\n",
      "Confusion:\n",
      " [[686  38  43]\n",
      " [304 395  69]\n",
      " [647 318 690]] \n",
      "\n",
      "Nearest Neighbors3 \n",
      "Scores: [ 0.690625    0.634375    0.609375    0.6375      0.625       0.62068966\n",
      "  0.60501567  0.60691824  0.55205047  0.64037855]\n",
      "Accuracy: 0.62 (+/- 0.07)\n",
      "Confusion:\n",
      " [[ 618   44  105]\n",
      " [ 272  335  161]\n",
      " [ 474  149 1032]] \n",
      "\n",
      "Nearest Neighbors4 \n",
      "Scores: [ 0.665625    0.596875    0.56875     0.628125    0.621875    0.62695925\n",
      "  0.62695925  0.59433962  0.57413249  0.64037855]\n",
      "Accuracy: 0.61 (+/- 0.06)\n",
      "Confusion:\n",
      " [[655  37  75]\n",
      " [229 388 151]\n",
      " [527 211 917]] \n",
      "\n",
      "Nearest Neighbors5 \n",
      "Scores: [ 0.6625      0.621875    0.60625     0.66875     0.609375    0.64263323\n",
      "  0.63949843  0.60691824  0.58990536  0.65930599]\n",
      "Accuracy: 0.63 (+/- 0.05)\n",
      "Confusion:\n",
      " [[639  36  92]\n",
      " [236 386 146]\n",
      " [465 203 987]] \n",
      "\n",
      "GaussianNB \n",
      "Scores: [ 0.909375    0.921875    0.890625    0.875       0.934375    0.88401254\n",
      "  0.92476489  0.90880503  0.86435331  0.88958991]\n",
      "Accuracy: 0.90 (+/- 0.04)\n",
      "Confusion:\n",
      " [[ 637  120   10]\n",
      " [   9  755    4]\n",
      " [  51  124 1480]] \n",
      "\n",
      "MLP classifier \n",
      "Scores: [ 0.653125    0.803125    0.678125    0.675       0.51875     0.68652038\n",
      "  0.67398119  0.74842767  0.52050473  0.52050473]\n",
      "Accuracy: 0.65 (+/- 0.19)\n",
      "Confusion:\n",
      " [[ 308   64  395]\n",
      " [  70  242  456]\n",
      " [  70   68 1517]] \n",
      "\n",
      "SGDclassifier - Stochastic Gradient Descent \n",
      "Scores: [ 0.8125      0.753125    0.771875    0.8125      0.796875    0.82758621\n",
      "  0.77115987  0.78301887  0.73501577  0.75394322]\n",
      "Accuracy: 0.78 (+/- 0.06)\n",
      "Confusion:\n",
      " [[ 550  101  116]\n",
      " [  52  657   59]\n",
      " [ 129  257 1269]] \n",
      "\n"
     ]
    }
   ],
   "source": [
    "clf=[]\n",
    "nome=[]\n",
    "clf.append(tree.DecisionTreeClassifier())\n",
    "nome.append('Decision Tree')\n",
    "clf.append(SVC())\n",
    "nome.append('SVC Support Vector Machines')\n",
    "clf.append(KNeighborsClassifier(n_neighbors=2))\n",
    "nome.append('Nearest Neighbors2')\n",
    "clf.append(KNeighborsClassifier(n_neighbors=3))\n",
    "nome.append('Nearest Neighbors3')\n",
    "clf.append(KNeighborsClassifier(n_neighbors=4))\n",
    "nome.append('Nearest Neighbors4')\n",
    "clf.append(KNeighborsClassifier(n_neighbors=5))\n",
    "nome.append('Nearest Neighbors5')\n",
    "clf.append(GaussianNB())\n",
    "nome.append('GaussianNB')\n",
    "clf.append(MLPClassifier(solver='lbfgs', alpha=1e-5,hidden_layer_sizes=(5, 2), random_state=1))\n",
    "nome.append('MLP classifier')\n",
    "clf.append(SGDClassifier(loss=\"hinge\", penalty=\"l2\", max_iter=5))\n",
    "nome.append('SGDclassifier - Stochastic Gradient Descent')\n",
    "clf.append(GaussianProcessClassifier())\n",
    "nome.append('Gaussian Process')\n",
    "for i in range(len(clf)):\n",
    "    scores = cross_val_score(clf[i], cdata, ctarg, cv=10)\n",
    "    y_pred = cross_val_predict(clf[i], cdata, ctarg, cv=10)\n",
    "    conf_mat = confusion_matrix(ctarg, y_pred)\n",
    "    print(nome[i],'\\nScores:',scores)\n",
    "    print(\"Accuracy: %0.2f (+/- %0.2f)\" % (scores.mean(), scores.std() * 2))\n",
    "    print('Confusion:\\n', conf_mat, '\\n')"
   ]
  },
  {
   "cell_type": "code",
   "execution_count": 36,
   "metadata": {
    "collapsed": true
   },
   "outputs": [],
   "source": [
    "data2= open('splice.data.txt', 'r')\n",
    "f= data2.readlines()\n",
    "for i in range(len(f)):\n",
    "    f[i]= f[i].split(',')\n",
    "for i in range(len(f)):\n",
    "    del(f[i][1])\n",
    "for i in range(len(f)):\n",
    "    f[i][1]=f[i][1].split()[0]\n",
    "c=[]\n",
    "for i in range(len(f)):\n",
    "    b=[]\n",
    "    if f[i][0]=='EI':\n",
    "        b.append(0)\n",
    "    elif f[i][0]=='IE':\n",
    "        b.append(1)\n",
    "    elif f[i][0]=='N':\n",
    "        b.append(2)\n",
    "    a=[]\n",
    "    l=0\n",
    "    for j in range(len(f[i][1])):\n",
    "        if f[i][1][j]=='A':\n",
    "            l= l-1\n",
    "            a.append(l)\n",
    "        elif f[i][1][j]=='C':\n",
    "            l= l-2\n",
    "            a.append(l)\n",
    "        elif f[i][1][j]=='G':\n",
    "            l= l+1\n",
    "            a.append(l)\n",
    "        elif f[i][1][j]=='T':\n",
    "            l= l+2\n",
    "            a.append(l)\n",
    "        else:\n",
    "            a.append(l)\n",
    "    b.append(a)\n",
    "    c.append(b)\n",
    "cdata=[]\n",
    "ctarg=[]\n",
    "\n",
    "for i in range(len(c)):\n",
    "    cdata.append(c[i][1])\n",
    "    ctarg.append((c[i][0]))"
   ]
  },
  {
   "cell_type": "code",
   "execution_count": null,
   "metadata": {
    "collapsed": true
   },
   "outputs": [],
   "source": [
    "clf = svm.SVC(kernel='linear', C=1)\n",
    "scores = cross_val_score(clf, cdata, ctarg, cv=10)\n",
    "print(scores)"
   ]
  },
  {
   "cell_type": "code",
   "execution_count": 24,
   "metadata": {},
   "outputs": [
    {
     "name": "stdout",
     "output_type": "stream",
     "text": [
      "[[ 681   42   44]\n",
      " [  41  641   86]\n",
      " [  48   77 1530]]\n"
     ]
    }
   ],
   "source": [
    "from sklearn.model_selection import cross_val_predict\n",
    "from sklearn.metrics import confusion_matrix\n",
    "y_pred = cross_val_predict(clf[0], cdata, ctarg, cv=10)\n",
    "conf_mat = confusion_matrix(ctarg, y_pred)\n",
    "print(conf_mat)"
   ]
  },
  {
   "cell_type": "code",
   "execution_count": 38,
   "metadata": {},
   "outputs": [
    {
     "name": "stdout",
     "output_type": "stream",
     "text": [
      "[-2, -4, -5, -4, -6, -4, -3, -5, -6, -4, -6, -7, -9, -10, -9, -8, -9, -8, -7, -9, -11, -12, -11, -13, -12, -13, -12, -14, -15, -14, -13, -11, -13, -11, -10, -8, -6, -8, -10, -11, -12, -11, -10, -9, -11, -13, -11, -9, -11, -10, -11, -10, -12, -14, -15, -14, -12, -14, -12, -11]\n"
     ]
    }
   ],
   "source": [
    "print(cdata[0])"
   ]
  },
  {
   "cell_type": "code",
   "execution_count": null,
   "metadata": {
    "collapsed": true
   },
   "outputs": [],
   "source": []
  }
 ],
 "metadata": {
  "kernelspec": {
   "display_name": "Python 3",
   "language": "python",
   "name": "python3"
  },
  "language_info": {
   "codemirror_mode": {
    "name": "ipython",
    "version": 3
   },
   "file_extension": ".py",
   "mimetype": "text/x-python",
   "name": "python",
   "nbconvert_exporter": "python",
   "pygments_lexer": "ipython3",
   "version": "3.6.1"
  }
 },
 "nbformat": 4,
 "nbformat_minor": 2
}
