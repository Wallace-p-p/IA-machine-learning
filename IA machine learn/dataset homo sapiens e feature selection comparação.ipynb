{
 "cells": [
  {
   "cell_type": "code",
   "execution_count": 4,
   "metadata": {
    "collapsed": true
   },
   "outputs": [],
   "source": [
    "import os\n",
    "os.chdir('C:\\\\Users\\\\Usuario\\\\Desktop\\\\wallace\\\\UNILA\\\\DNA IC')"
   ]
  },
  {
   "cell_type": "code",
   "execution_count": 5,
   "metadata": {
    "collapsed": true
   },
   "outputs": [],
   "source": [
    "data1= open('EIt.txt', 'r')\n",
    "data2= open('EIf.txt', 'r')\n",
    "data3= open('IEt.txt', 'r')\n",
    "data4= open('IEf.txt', 'r')\n",
    "f1= data1.readlines()\n",
    "f2= data2.readlines()\n",
    "f3= data3.readlines()\n",
    "f4= data4.readlines()\n",
    "del(f1[0:4])\n",
    "del(f2[0:4])\n",
    "del(f3[0:4])\n",
    "del(f4[0:4])"
   ]
  },
  {
   "cell_type": "code",
   "execution_count": 6,
   "metadata": {
    "collapsed": true
   },
   "outputs": [],
   "source": [
    "data=[]\n",
    "targ=[]\n",
    "for i in range(len(f1)):\n",
    "    f1[i]= f1[i].split('): ')\n",
    "for i in range(len(f1)):\n",
    "    data.append(f1[i][1])\n",
    "    targ.append(0)\n",
    "\n",
    "for i in range(3000):\n",
    "    f2[i]= f2[i].split(') : ')\n",
    "for i in range(3000):\n",
    "    data.append(f2[i][1])\n",
    "    targ.append(2)\n",
    "\n",
    "for i in range(len(f3)):\n",
    "    f3[i]= f3[i].split('): ')\n",
    "for i in range(len(f3)):\n",
    "    data.append(f3[i][1])\n",
    "    targ.append(1)\n",
    "\n",
    "for i in range(3000):\n",
    "    f4[i]= f4[i].split(') : ')\n",
    "for i in range(3000):\n",
    "    data.append(f4[i][1])\n",
    "    targ.append(2)\n"
   ]
  },
  {
   "cell_type": "code",
   "execution_count": 7,
   "metadata": {
    "collapsed": true
   },
   "outputs": [],
   "source": [
    "d=[]\n",
    "for i in range(len(data)):\n",
    "    da=[]\n",
    "    for j in range(len(data[i])):\n",
    "        if data[i][j]=='A':\n",
    "            da.append(0)\n",
    "        elif data[i][j]=='C':\n",
    "            da.append(1)\n",
    "        elif data[i][j]=='G':\n",
    "            da.append(2)\n",
    "        elif data[i][j]=='T':\n",
    "            da.append(3)\n",
    "        else:\n",
    "            da.append(8)\n",
    "    d.append(da)"
   ]
  },
  {
   "cell_type": "code",
   "execution_count": 8,
   "metadata": {
    "collapsed": true
   },
   "outputs": [],
   "source": [
    "from sklearn.feature_selection import SelectFromModel\n",
    "from sklearn import tree"
   ]
  },
  {
   "cell_type": "code",
   "execution_count": 9,
   "metadata": {
    "scrolled": true
   },
   "outputs": [
    {
     "name": "stdout",
     "output_type": "stream",
     "text": [
      "141 8\n"
     ]
    }
   ],
   "source": [
    "clf=tree.DecisionTreeClassifier()\n",
    "clf= clf.fit(d,targ)\n",
    "model = SelectFromModel(clf, prefit=True, max_features=8)\n",
    "x = model.transform(d)\n",
    "print(len(d[0]),len(x[0]))"
   ]
  },
  {
   "cell_type": "code",
   "execution_count": 10,
   "metadata": {},
   "outputs": [
    {
     "name": "stdout",
     "output_type": "stream",
     "text": [
      "60 8\n"
     ]
    }
   ],
   "source": [
    "data1= open('splice.data.txt', 'r')\n",
    "f= data1.readlines()\n",
    "for i in range(len(f)):\n",
    "    f[i]= f[i].split(',')\n",
    "for i in range(len(f)):\n",
    "    del(f[i][1])\n",
    "for i in range(len(f)):\n",
    "    f[i][1]=f[i][1].split()[0]\n",
    "c=[]\n",
    "for i in range(len(f)):\n",
    "    b=[]\n",
    "    if f[i][0]=='EI':\n",
    "        b.append(0)\n",
    "    elif f[i][0]=='IE':\n",
    "        b.append(1)\n",
    "    elif f[i][0]=='N':\n",
    "        b.append(2)\n",
    "    a=[]\n",
    "    for j in range(len(f[i][1])):\n",
    "        if f[i][1][j]=='A':\n",
    "            a.append(0)\n",
    "        elif f[i][1][j]=='C':\n",
    "            a.append(1)\n",
    "        elif f[i][1][j]=='G':\n",
    "            a.append(2)\n",
    "        elif f[i][1][j]=='T':\n",
    "            a.append(3)\n",
    "        else:\n",
    "            a.append(8)\n",
    "    b.append(a)\n",
    "    c.append(b)\n",
    "cdata=[]\n",
    "ctarg=[]\n",
    "\n",
    "for i in range(len(c)):\n",
    "    cdata.append(c[i][1])\n",
    "    ctarg.append((c[i][0]))\n",
    "clf=tree.DecisionTreeClassifier()\n",
    "clf= clf.fit(cdata,ctarg)\n",
    "model = SelectFromModel(clf, prefit=True)\n",
    "x1 = model.transform(cdata)\n",
    "print(len(cdata[0]),len(x1[0]))"
   ]
  },
  {
   "cell_type": "code",
   "execution_count": 11,
   "metadata": {
    "collapsed": true
   },
   "outputs": [],
   "source": [
    "import numpy as np\n",
    "from sklearn import svm\n",
    "from sklearn.model_selection import cross_val_score\n",
    "from sklearn.model_selection import ShuffleSplit\n",
    "from sklearn import tree\n",
    "from sklearn.svm import SVC\n",
    "from sklearn.neighbors import KNeighborsClassifier\n",
    "from sklearn.naive_bayes import GaussianNB\n",
    "from sklearn.neural_network import MLPClassifier\n",
    "from sklearn.metrics import confusion_matrix\n",
    "from sklearn.metrics import classification_report,confusion_matrix\n",
    "from sklearn.model_selection import cross_val_predict\n",
    "from sklearn.linear_model import SGDClassifier\n",
    "from sklearn.gaussian_process import GaussianProcessClassifier\n",
    "from sklearn.ensemble import BaggingClassifier\n",
    "from sklearn.ensemble import RandomForestClassifier\n",
    "from sklearn.ensemble import AdaBoostClassifier\n",
    "from sklearn.ensemble import GradientBoostingClassifier\n",
    "from sklearn.ensemble import VotingClassifier"
   ]
  },
  {
   "cell_type": "code",
   "execution_count": 17,
   "metadata": {},
   "outputs": [
    {
     "name": "stdout",
     "output_type": "stream",
     "text": [
      "Voting Classifier\n"
     ]
    },
    {
     "name": "stderr",
     "output_type": "stream",
     "text": [
      "C:\\Users\\Usuario\\Anaconda3\\lib\\site-packages\\sklearn\\svm\\base.py:196: FutureWarning: The default value of gamma will change from 'auto' to 'scale' in version 0.22 to account better for unscaled features. Set gamma explicitly to 'auto' or 'scale' to avoid this warning.\n",
      "  \"avoid this warning.\", FutureWarning)\n"
     ]
    },
    {
     "name": "stdout",
     "output_type": "stream",
     "text": [
      "[[2673   87   36]\n",
      " [ 116 2707   57]\n",
      " [ 953 2488 2559]]\n",
      "Accuracy: 0.68, ei: 0.96 , ie: 0.94, n: 0.43\n"
     ]
    }
   ],
   "source": [
    "print('Voting Classifier')\n",
    "clf1 = GradientBoostingClassifier(n_estimators=100, learning_rate=1.0, max_depth=1, random_state=0)\n",
    "clf2 = AdaBoostClassifier(n_estimators=100)\n",
    "clf3 = tree.DecisionTreeClassifier()\n",
    "clf4 = GaussianNB()\n",
    "clf5 = SVC()\n",
    "\n",
    "\n",
    "clf = VotingClassifier(estimators=[('gbc', clf1), ('ada', clf2), ('DTc', clf3), ('gNB', clf4), ('svc', clf5)], voting='hard')\n",
    "clf.fit(x1, ctarg)\n",
    "y=clf.predict(x)\n",
    "cm= confusion_matrix(targ, y)\n",
    "print(cm)\n",
    "print(\"Accuracy: %0.2f, ei: %0.2f , ie: %0.2f, n: %0.2f\" % ((cm[0][0]+cm[1][1]+cm[2][2])/sum(cm[0]+cm[1]+cm[2]), cm[0][0]/sum(cm[0]), cm[1][1]/sum(cm[1]),cm[2][2]/sum(cm[2])))\n",
    "# fit(x1, ctarg) - precisão de 68%"
   ]
  },
  {
   "cell_type": "code",
   "execution_count": 19,
   "metadata": {},
   "outputs": [
    {
     "name": "stdout",
     "output_type": "stream",
     "text": [
      "Voting Classifier\n"
     ]
    },
    {
     "name": "stderr",
     "output_type": "stream",
     "text": [
      "C:\\Users\\Usuario\\Anaconda3\\lib\\site-packages\\sklearn\\svm\\base.py:196: FutureWarning: The default value of gamma will change from 'auto' to 'scale' in version 0.22 to account better for unscaled features. Set gamma explicitly to 'auto' or 'scale' to avoid this warning.\n",
      "  \"avoid this warning.\", FutureWarning)\n"
     ]
    },
    {
     "name": "stdout",
     "output_type": "stream",
     "text": [
      "[[ 721   22   24]\n",
      " [  27  675   66]\n",
      " [   7   42 1606]]\n",
      "Accuracy: 0.94, ei: 0.94 , ie: 0.88, n: 0.97\n"
     ]
    }
   ],
   "source": [
    "print('Voting Classifier')\n",
    "clf1 = GradientBoostingClassifier(n_estimators=100, learning_rate=1.0, max_depth=1, random_state=0)\n",
    "clf2 = AdaBoostClassifier(n_estimators=100)\n",
    "clf3 = tree.DecisionTreeClassifier()\n",
    "clf4 = GaussianNB()\n",
    "clf5 = SVC()\n",
    "\n",
    "\n",
    "clf = VotingClassifier(estimators=[('gbc', clf1), ('ada', clf2), ('DTc', clf3), ('gNB', clf4), ('svc', clf5)], voting='hard')\n",
    "clf.fit(x, targ)\n",
    "y=clf.predict(x1)\n",
    "cm= confusion_matrix(ctarg, y)\n",
    "print(cm)\n",
    "print(\"Accuracy: %0.2f, ei: %0.2f , ie: %0.2f, n: %0.2f\" % ((cm[0][0]+cm[1][1]+cm[2][2])/sum(cm[0]+cm[1]+cm[2]), cm[0][0]/sum(cm[0]), cm[1][1]/sum(cm[1]),cm[2][2]/sum(cm[2])))\n",
    "# fit(x1, ctarg) - precisão de 94%"
   ]
  },
  {
   "cell_type": "markdown",
   "metadata": {
    "collapsed": true
   },
   "source": [
    "for i in range(len(data)):\n",
    "    if len(data[i]) != 141:\n",
    "        print(len(data[i]), 'deu ruim')\n"
   ]
  },
  {
   "cell_type": "code",
   "execution_count": 1,
   "metadata": {},
   "outputs": [
    {
     "name": "stdout",
     "output_type": "stream",
     "text": [
      "0.20.3\n"
     ]
    }
   ],
   "source": [
    "import sklearn\n",
    "print(sklearn.__version__)"
   ]
  },
  {
   "cell_type": "code",
   "execution_count": 12,
   "metadata": {},
   "outputs": [
    {
     "name": "stdout",
     "output_type": "stream",
     "text": [
      "[1, 2, 0]\n"
     ]
    }
   ],
   "source": [
    "a=[0,0,0,1,2,0]\n",
    "while a[0] not in [1,2]:\n",
    "    del(a[0])\n",
    "print(a)"
   ]
  },
  {
   "cell_type": "code",
   "execution_count": 17,
   "metadata": {},
   "outputs": [
    {
     "name": "stdout",
     "output_type": "stream",
     "text": [
      "['AF059650  ( 1, 61, 0', 'CATTCTGGATGATGCAGCGAACAATCCTCTCTACTGTGTCCTCATTCATGTCATTCGTCCTCAGCTGAAGGATGAAAGAGATTGGCAAGGAAGCAGGAATGAGTCAGCTTTGGGGGAATATTACCTGGTGGCTCCCATCA\\n']\n"
     ]
    }
   ],
   "source": [
    "print(f4[0])"
   ]
  },
  {
   "cell_type": "code",
   "execution_count": 3,
   "metadata": {},
   "outputs": [
    {
     "name": "stdout",
     "output_type": "stream",
     "text": [
      "15\n"
     ]
    }
   ],
   "source": [
    "a=[[1,1,1],[2,8,2]]\n",
    "print(sum(a[0]+a[1]))"
   ]
  },
  {
   "cell_type": "code",
   "execution_count": null,
   "metadata": {
    "collapsed": true
   },
   "outputs": [],
   "source": []
  }
 ],
 "metadata": {
  "kernelspec": {
   "display_name": "Python 3",
   "language": "python",
   "name": "python3"
  },
  "language_info": {
   "codemirror_mode": {
    "name": "ipython",
    "version": 3
   },
   "file_extension": ".py",
   "mimetype": "text/x-python",
   "name": "python",
   "nbconvert_exporter": "python",
   "pygments_lexer": "ipython3",
   "version": "3.6.8"
  }
 },
 "nbformat": 4,
 "nbformat_minor": 2
}
